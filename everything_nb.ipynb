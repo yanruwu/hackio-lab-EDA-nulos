{
 "cells": [
  {
   "cell_type": "code",
   "execution_count": 249,
   "metadata": {},
   "outputs": [],
   "source": [
    "import pandas as pd\n",
    "import numpy as np\n",
    "\n",
    "import pandas as pd\n",
    "from sklearn.experimental import enable_iterative_imputer\n",
    "from sklearn.impute import SimpleImputer, IterativeImputer, KNNImputer\n",
    "from sklearn.ensemble import RandomForestRegressor\n",
    "\n",
    "from sklearn.preprocessing import MinMaxScaler, StandardScaler, RobustScaler\n",
    "\n",
    "import seaborn as sns\n",
    "import matplotlib.pyplot as plt\n",
    "\n",
    "from sklearn.ensemble import IsolationForest\n",
    "from sklearn.neighbors import LocalOutlierFactor\n",
    "\n",
    "from itertools import product\n",
    "\n",
    "from tqdm import tqdm\n",
    "\n",
    "from sklearn.experimental import enable_iterative_imputer\n",
    "from sklearn.impute import IterativeImputer\n",
    "from sklearn.ensemble import RandomForestRegressor\n",
    "\n",
    "from sklearn.preprocessing import OneHotEncoder\n",
    "\n",
    "from category_encoders import TargetEncoder\n",
    "\n",
    "from sklearn.linear_model import LinearRegression\n",
    "from sklearn.tree import DecisionTreeRegressor, plot_tree\n",
    "from sklearn.ensemble import RandomForestRegressor\n",
    "from sklearn.model_selection import train_test_split,GridSearchCV\n",
    "from sklearn.metrics import r2_score, mean_squared_error, mean_absolute_error\n",
    "\n",
    "from sklearn.ensemble import RandomForestRegressor\n",
    "from sklearn.ensemble import GradientBoostingRegressor\n",
    "\n",
    "import warnings\n",
    "warnings.filterwarnings('ignore')\n",
    "\n",
    "from src.support_ml import * "
   ]
  },
  {
   "cell_type": "code",
   "execution_count": 79,
   "metadata": {},
   "outputs": [],
   "source": [
    "params_tree = {\n",
    "    'max_depth': [6, 8, 10, 20],\n",
    "    'min_samples_split': [10, 50],\n",
    "    'min_samples_leaf': [10, 50],\n",
    "    'max_leaf_nodes': [10, 20, 40, 80, 160]\n",
    "}"
   ]
  },
  {
   "cell_type": "code",
   "execution_count": 80,
   "metadata": {},
   "outputs": [],
   "source": [
    "df = pd.read_csv(\"datos/autorenew.csv\")"
   ]
  },
  {
   "cell_type": "markdown",
   "metadata": {},
   "source": [
    "## EDA and nulls"
   ]
  },
  {
   "cell_type": "code",
   "execution_count": 81,
   "metadata": {},
   "outputs": [],
   "source": [
    "month_map = {\n",
    "    0: \"unknown\",\n",
    "    1: \"january\",\n",
    "    2: \"february\",\n",
    "    3: \"march\",\n",
    "    4: \"april\",\n",
    "    5: \"may\",\n",
    "    6: \"june\",\n",
    "    7: \"july\",\n",
    "    8: \"august\",\n",
    "    9: \"september\",\n",
    "    10: \"october\",\n",
    "    11: \"november\",\n",
    "    12: \"december\"\n",
    "}"
   ]
  },
  {
   "cell_type": "code",
   "execution_count": null,
   "metadata": {},
   "outputs": [],
   "source": [
    "df[\"dateCreated\"] = pd.to_datetime(df[\"dateCreated\"]).apply(lambda x: x.strftime(\"%Y-%m\"))\n",
    "df[\"dateCrawled\"] = pd.to_datetime(df[\"dateCrawled\"]).apply(lambda x: x.strftime(\"%Y-%m\"))\n",
    "df[\"lastSeen\"] = pd.to_datetime(df[\"lastSeen\"]).apply(lambda x: x.strftime(\"%Y-%m\"))"
   ]
  },
  {
   "cell_type": "code",
   "execution_count": 82,
   "metadata": {},
   "outputs": [],
   "source": [
    "df.drop(index = df[df[\"price\"]<=250].index, inplace=True)\n",
    "\n",
    "upper_error_index = df[(df[\"price\"] > 1.5e+05) & (df[\"powerCV\"] < 450)].index\n",
    "df.drop(index=upper_error_index, inplace=True)\n",
    "\n",
    "df.drop(index = df[df[\"price\"] > 1e+9].index, inplace=True)\n",
    "\n",
    "cv_cond = (df[\"powerCV\"] < 50) | (df[\"powerCV\"] > 1000)\n",
    "df.loc[df[cv_cond].index, \"powerCV\"] = np.nan\n",
    "\n",
    "cond_year = (df[\"yearOfRegistration\"] < 1900) | (df[\"yearOfRegistration\"] >= 2025)\n",
    "df.loc[df[cond_year].index, \"yearOfRegistration\"] = 'unknown'\n",
    "\n",
    "coche_year_dicc = {\n",
    "    \"Coche Vintage\": list(range(1900, 1946)),\n",
    "    \"Coche Clásico\": list(range(1946, 1971)),\n",
    "    \"Coche Retro-Moderno\": list(range(1971, 1991)),\n",
    "    \"Coche Moderno\": list(range(1991, 2011)),\n",
    "    \"Coche Contemporáneo\": list(range(2011, 2025)),\n",
    "    \"unknown\" : [\"unknown\"]\n",
    "}\n",
    "\n",
    "year_to_category = {}\n",
    "\n",
    "for category, years in coche_year_dicc.items():\n",
    "    for year in years:\n",
    "        year_to_category[year] = category\n",
    "\n",
    "df[\"yearOfRegistration\"] = df[\"yearOfRegistration\"].map(year_to_category)\n",
    "\n",
    "\n",
    "df[\"monthOfRegistration\"] = df[\"monthOfRegistration\"].map(month_map)\n",
    "\n",
    "for col in df.select_dtypes(\"O\").columns:\n",
    "    df.loc[df[df[col].isna()].index, col] = 'unknown'\n",
    "\n",
    "df.reset_index(drop=True, inplace=True)"
   ]
  },
  {
   "cell_type": "code",
   "execution_count": 84,
   "metadata": {},
   "outputs": [
    {
     "name": "stdout",
     "output_type": "stream",
     "text": [
      "[IterativeImputer] Completing matrix with shape (349181, 5)\n",
      "[IterativeImputer] Ending imputation round 1/10, elapsed time 57.99\n",
      "[IterativeImputer] Change: 483.55868854007537, scaled tolerance: 3895.0 \n",
      "[IterativeImputer] Early stopping criterion reached.\n"
     ]
    }
   ],
   "source": [
    "df_treated = impute_nulls(df)"
   ]
  },
  {
   "cell_type": "code",
   "execution_count": 104,
   "metadata": {},
   "outputs": [],
   "source": [
    "df_imputed = df.copy()\n",
    "df_imputed[df_treated.columns] = df_treated"
   ]
  },
  {
   "cell_type": "code",
   "execution_count": 105,
   "metadata": {},
   "outputs": [
    {
     "data": {
      "text/html": [
       "<div>\n",
       "<style scoped>\n",
       "    .dataframe tbody tr th:only-of-type {\n",
       "        vertical-align: middle;\n",
       "    }\n",
       "\n",
       "    .dataframe tbody tr th {\n",
       "        vertical-align: top;\n",
       "    }\n",
       "\n",
       "    .dataframe thead th {\n",
       "        text-align: right;\n",
       "    }\n",
       "</style>\n",
       "<table border=\"1\" class=\"dataframe\">\n",
       "  <thead>\n",
       "    <tr style=\"text-align: right;\">\n",
       "      <th></th>\n",
       "      <th>dateCrawled</th>\n",
       "      <th>name</th>\n",
       "      <th>seller</th>\n",
       "      <th>offerType</th>\n",
       "      <th>price</th>\n",
       "      <th>abtest</th>\n",
       "      <th>vehicleType</th>\n",
       "      <th>yearOfRegistration</th>\n",
       "      <th>gearbox</th>\n",
       "      <th>powerCV</th>\n",
       "      <th>model</th>\n",
       "      <th>kilometer</th>\n",
       "      <th>monthOfRegistration</th>\n",
       "      <th>fuelType</th>\n",
       "      <th>brand</th>\n",
       "      <th>notRepairedDamage</th>\n",
       "      <th>dateCreated</th>\n",
       "      <th>nrOfPictures</th>\n",
       "      <th>postalCode</th>\n",
       "      <th>lastSeen</th>\n",
       "    </tr>\n",
       "  </thead>\n",
       "  <tbody>\n",
       "    <tr>\n",
       "      <th>0</th>\n",
       "      <td>2016-03-24 11:52:17</td>\n",
       "      <td>Golf_3_1.6</td>\n",
       "      <td>private</td>\n",
       "      <td>offer</td>\n",
       "      <td>480.0</td>\n",
       "      <td>test</td>\n",
       "      <td>unknown</td>\n",
       "      <td>Coche Moderno</td>\n",
       "      <td>manually</td>\n",
       "      <td>95.133333</td>\n",
       "      <td>golf</td>\n",
       "      <td>150000.0</td>\n",
       "      <td>unknown</td>\n",
       "      <td>petrol</td>\n",
       "      <td>volkswagen</td>\n",
       "      <td>unknown</td>\n",
       "      <td>2016-03-24 00:00:00</td>\n",
       "      <td>0</td>\n",
       "      <td>70435.0</td>\n",
       "      <td>2016-04-07 03:16:57</td>\n",
       "    </tr>\n",
       "    <tr>\n",
       "      <th>1</th>\n",
       "      <td>2016-03-24 10:58:45</td>\n",
       "      <td>A5_Sportback_2.7_Tdi</td>\n",
       "      <td>private</td>\n",
       "      <td>offer</td>\n",
       "      <td>18300.0</td>\n",
       "      <td>test</td>\n",
       "      <td>coupe</td>\n",
       "      <td>Coche Contemporáneo</td>\n",
       "      <td>manually</td>\n",
       "      <td>187.000000</td>\n",
       "      <td>unknown</td>\n",
       "      <td>125000.0</td>\n",
       "      <td>may</td>\n",
       "      <td>diesel</td>\n",
       "      <td>audi</td>\n",
       "      <td>yes</td>\n",
       "      <td>2016-03-24 00:00:00</td>\n",
       "      <td>0</td>\n",
       "      <td>66954.0</td>\n",
       "      <td>2016-04-07 01:46:50</td>\n",
       "    </tr>\n",
       "    <tr>\n",
       "      <th>2</th>\n",
       "      <td>2016-03-14 12:52:21</td>\n",
       "      <td>Jeep_Grand_Cherokee_\"Overland\"</td>\n",
       "      <td>private</td>\n",
       "      <td>offer</td>\n",
       "      <td>9800.0</td>\n",
       "      <td>test</td>\n",
       "      <td>suv</td>\n",
       "      <td>Coche Moderno</td>\n",
       "      <td>automatic</td>\n",
       "      <td>161.000000</td>\n",
       "      <td>grand</td>\n",
       "      <td>125000.0</td>\n",
       "      <td>august</td>\n",
       "      <td>diesel</td>\n",
       "      <td>jeep</td>\n",
       "      <td>unknown</td>\n",
       "      <td>2016-03-14 00:00:00</td>\n",
       "      <td>0</td>\n",
       "      <td>90480.0</td>\n",
       "      <td>2016-04-05 12:47:46</td>\n",
       "    </tr>\n",
       "    <tr>\n",
       "      <th>3</th>\n",
       "      <td>2016-03-17 16:54:04</td>\n",
       "      <td>GOLF_4_1_4__3TÜRER</td>\n",
       "      <td>private</td>\n",
       "      <td>offer</td>\n",
       "      <td>1500.0</td>\n",
       "      <td>test</td>\n",
       "      <td>small car</td>\n",
       "      <td>Coche Moderno</td>\n",
       "      <td>manually</td>\n",
       "      <td>74.000000</td>\n",
       "      <td>golf</td>\n",
       "      <td>150000.0</td>\n",
       "      <td>june</td>\n",
       "      <td>petrol</td>\n",
       "      <td>volkswagen</td>\n",
       "      <td>no</td>\n",
       "      <td>2016-03-17 00:00:00</td>\n",
       "      <td>0</td>\n",
       "      <td>91074.0</td>\n",
       "      <td>2016-03-17 17:40:17</td>\n",
       "    </tr>\n",
       "    <tr>\n",
       "      <th>4</th>\n",
       "      <td>2016-03-31 17:25:20</td>\n",
       "      <td>Skoda_Fabia_1.4_TDI_PD_Classic</td>\n",
       "      <td>private</td>\n",
       "      <td>offer</td>\n",
       "      <td>3600.0</td>\n",
       "      <td>test</td>\n",
       "      <td>small car</td>\n",
       "      <td>Coche Moderno</td>\n",
       "      <td>manually</td>\n",
       "      <td>68.000000</td>\n",
       "      <td>fabia</td>\n",
       "      <td>90000.0</td>\n",
       "      <td>july</td>\n",
       "      <td>diesel</td>\n",
       "      <td>skoda</td>\n",
       "      <td>no</td>\n",
       "      <td>2016-03-31 00:00:00</td>\n",
       "      <td>0</td>\n",
       "      <td>60437.0</td>\n",
       "      <td>2016-04-06 10:17:21</td>\n",
       "    </tr>\n",
       "  </tbody>\n",
       "</table>\n",
       "</div>"
      ],
      "text/plain": [
       "           dateCrawled                            name   seller offerType  \\\n",
       "0  2016-03-24 11:52:17                      Golf_3_1.6  private     offer   \n",
       "1  2016-03-24 10:58:45            A5_Sportback_2.7_Tdi  private     offer   \n",
       "2  2016-03-14 12:52:21  Jeep_Grand_Cherokee_\"Overland\"  private     offer   \n",
       "3  2016-03-17 16:54:04              GOLF_4_1_4__3TÜRER  private     offer   \n",
       "4  2016-03-31 17:25:20  Skoda_Fabia_1.4_TDI_PD_Classic  private     offer   \n",
       "\n",
       "     price abtest vehicleType   yearOfRegistration    gearbox     powerCV  \\\n",
       "0    480.0   test     unknown        Coche Moderno   manually   95.133333   \n",
       "1  18300.0   test       coupe  Coche Contemporáneo   manually  187.000000   \n",
       "2   9800.0   test         suv        Coche Moderno  automatic  161.000000   \n",
       "3   1500.0   test   small car        Coche Moderno   manually   74.000000   \n",
       "4   3600.0   test   small car        Coche Moderno   manually   68.000000   \n",
       "\n",
       "     model  kilometer monthOfRegistration fuelType       brand  \\\n",
       "0     golf   150000.0             unknown   petrol  volkswagen   \n",
       "1  unknown   125000.0                 may   diesel        audi   \n",
       "2    grand   125000.0              august   diesel        jeep   \n",
       "3     golf   150000.0                june   petrol  volkswagen   \n",
       "4    fabia    90000.0                july   diesel       skoda   \n",
       "\n",
       "  notRepairedDamage          dateCreated  nrOfPictures postalCode  \\\n",
       "0           unknown  2016-03-24 00:00:00             0    70435.0   \n",
       "1               yes  2016-03-24 00:00:00             0    66954.0   \n",
       "2           unknown  2016-03-14 00:00:00             0    90480.0   \n",
       "3                no  2016-03-17 00:00:00             0    91074.0   \n",
       "4                no  2016-03-31 00:00:00             0    60437.0   \n",
       "\n",
       "              lastSeen  \n",
       "0  2016-04-07 03:16:57  \n",
       "1  2016-04-07 01:46:50  \n",
       "2  2016-04-05 12:47:46  \n",
       "3  2016-03-17 17:40:17  \n",
       "4  2016-04-06 10:17:21  "
      ]
     },
     "execution_count": 105,
     "metadata": {},
     "output_type": "execute_result"
    }
   ],
   "source": [
    "df_imputed.head()"
   ]
  },
  {
   "cell_type": "markdown",
   "metadata": {},
   "source": [
    "## Feature Scaling"
   ]
  },
  {
   "cell_type": "code",
   "execution_count": 108,
   "metadata": {},
   "outputs": [],
   "source": [
    "df_imputed.drop(columns=\"nrOfPictures\", inplace=True)\n",
    "df_imputed[\"postalCode\"] = df_imputed[\"postalCode\"].astype(\"O\")"
   ]
  },
  {
   "cell_type": "code",
   "execution_count": 109,
   "metadata": {},
   "outputs": [],
   "source": [
    "numeric_cols = df_imputed.select_dtypes(\"number\").columns.drop(\"price\")"
   ]
  },
  {
   "cell_type": "code",
   "execution_count": 110,
   "metadata": {},
   "outputs": [],
   "source": [
    "df_scaled = scale_data(data =df_imputed, columns = numeric_cols)"
   ]
  },
  {
   "cell_type": "code",
   "execution_count": 112,
   "metadata": {},
   "outputs": [],
   "source": [
    "df_imputed_scaled = df_imputed.copy()"
   ]
  },
  {
   "cell_type": "code",
   "execution_count": 114,
   "metadata": {},
   "outputs": [],
   "source": [
    "df_imputed_scaled[df_scaled.columns] = df_scaled"
   ]
  },
  {
   "cell_type": "code",
   "execution_count": 117,
   "metadata": {},
   "outputs": [
    {
     "data": {
      "text/html": [
       "<div>\n",
       "<style scoped>\n",
       "    .dataframe tbody tr th:only-of-type {\n",
       "        vertical-align: middle;\n",
       "    }\n",
       "\n",
       "    .dataframe tbody tr th {\n",
       "        vertical-align: top;\n",
       "    }\n",
       "\n",
       "    .dataframe thead th {\n",
       "        text-align: right;\n",
       "    }\n",
       "</style>\n",
       "<table border=\"1\" class=\"dataframe\">\n",
       "  <thead>\n",
       "    <tr style=\"text-align: right;\">\n",
       "      <th></th>\n",
       "      <th>dateCrawled</th>\n",
       "      <th>name</th>\n",
       "      <th>seller</th>\n",
       "      <th>offerType</th>\n",
       "      <th>price</th>\n",
       "      <th>abtest</th>\n",
       "      <th>vehicleType</th>\n",
       "      <th>yearOfRegistration</th>\n",
       "      <th>gearbox</th>\n",
       "      <th>powerCV</th>\n",
       "      <th>model</th>\n",
       "      <th>kilometer</th>\n",
       "      <th>monthOfRegistration</th>\n",
       "      <th>fuelType</th>\n",
       "      <th>brand</th>\n",
       "      <th>notRepairedDamage</th>\n",
       "      <th>dateCreated</th>\n",
       "      <th>postalCode</th>\n",
       "      <th>lastSeen</th>\n",
       "    </tr>\n",
       "  </thead>\n",
       "  <tbody>\n",
       "    <tr>\n",
       "      <th>0</th>\n",
       "      <td>2016-03-24 11:52:17</td>\n",
       "      <td>Golf_3_1.6</td>\n",
       "      <td>private</td>\n",
       "      <td>offer</td>\n",
       "      <td>480.0</td>\n",
       "      <td>test</td>\n",
       "      <td>unknown</td>\n",
       "      <td>Coche Moderno</td>\n",
       "      <td>manually</td>\n",
       "      <td>-0.299471</td>\n",
       "      <td>golf</td>\n",
       "      <td>0.0</td>\n",
       "      <td>unknown</td>\n",
       "      <td>petrol</td>\n",
       "      <td>volkswagen</td>\n",
       "      <td>unknown</td>\n",
       "      <td>2016-03-24 00:00:00</td>\n",
       "      <td>70435.0</td>\n",
       "      <td>2016-04-07 03:16:57</td>\n",
       "    </tr>\n",
       "    <tr>\n",
       "      <th>1</th>\n",
       "      <td>2016-03-24 10:58:45</td>\n",
       "      <td>A5_Sportback_2.7_Tdi</td>\n",
       "      <td>private</td>\n",
       "      <td>offer</td>\n",
       "      <td>18300.0</td>\n",
       "      <td>test</td>\n",
       "      <td>coupe</td>\n",
       "      <td>Coche Contemporáneo</td>\n",
       "      <td>manually</td>\n",
       "      <td>1.158730</td>\n",
       "      <td>unknown</td>\n",
       "      <td>-0.5</td>\n",
       "      <td>may</td>\n",
       "      <td>diesel</td>\n",
       "      <td>audi</td>\n",
       "      <td>yes</td>\n",
       "      <td>2016-03-24 00:00:00</td>\n",
       "      <td>66954.0</td>\n",
       "      <td>2016-04-07 01:46:50</td>\n",
       "    </tr>\n",
       "  </tbody>\n",
       "</table>\n",
       "</div>"
      ],
      "text/plain": [
       "           dateCrawled                  name   seller offerType    price  \\\n",
       "0  2016-03-24 11:52:17            Golf_3_1.6  private     offer    480.0   \n",
       "1  2016-03-24 10:58:45  A5_Sportback_2.7_Tdi  private     offer  18300.0   \n",
       "\n",
       "  abtest vehicleType   yearOfRegistration   gearbox   powerCV    model  \\\n",
       "0   test     unknown        Coche Moderno  manually -0.299471     golf   \n",
       "1   test       coupe  Coche Contemporáneo  manually  1.158730  unknown   \n",
       "\n",
       "   kilometer monthOfRegistration fuelType       brand notRepairedDamage  \\\n",
       "0        0.0             unknown   petrol  volkswagen           unknown   \n",
       "1       -0.5                 may   diesel        audi               yes   \n",
       "\n",
       "           dateCreated postalCode             lastSeen  \n",
       "0  2016-03-24 00:00:00    70435.0  2016-04-07 03:16:57  \n",
       "1  2016-03-24 00:00:00    66954.0  2016-04-07 01:46:50  "
      ]
     },
     "execution_count": 117,
     "metadata": {},
     "output_type": "execute_result"
    }
   ],
   "source": [
    "df_imputed_scaled.head(2)"
   ]
  },
  {
   "cell_type": "markdown",
   "metadata": {},
   "source": [
    "## Outliers"
   ]
  },
  {
   "cell_type": "code",
   "execution_count": 122,
   "metadata": {},
   "outputs": [
    {
     "name": "stderr",
     "output_type": "stream",
     "text": [
      "100%|██████████| 25/25 [09:50<00:00, 23.64s/it]\n"
     ]
    }
   ],
   "source": [
    "ifo_outliers = find_outliers(data = df_imputed_scaled, columns = numeric_cols)"
   ]
  },
  {
   "cell_type": "code",
   "execution_count": 130,
   "metadata": {},
   "outputs": [],
   "source": [
    "df_drop_ifo = df_imputed_scaled.drop(index = ifo_outliers.index)\n",
    "df_drop_ifo.reset_index(drop=True, inplace=True)"
   ]
  },
  {
   "cell_type": "code",
   "execution_count": 133,
   "metadata": {},
   "outputs": [
    {
     "name": "stderr",
     "output_type": "stream",
     "text": [
      "100%|██████████| 25/25 [09:41<00:00, 23.25s/it]\n"
     ]
    }
   ],
   "source": [
    "lof_outliers = find_outliers(data = df_drop_ifo, columns = numeric_cols)"
   ]
  },
  {
   "cell_type": "code",
   "execution_count": 140,
   "metadata": {},
   "outputs": [
    {
     "name": "stdout",
     "output_type": "stream",
     "text": [
      "[IterativeImputer] Completing matrix with shape (339334, 3)\n",
      "[IterativeImputer] Ending imputation round 1/10, elapsed time 15.18\n",
      "[IterativeImputer] Change: 3.4321170014784403, scaled tolerance: 150.0 \n",
      "[IterativeImputer] Early stopping criterion reached.\n"
     ]
    }
   ],
   "source": [
    "df_drop_ifo.loc[lof_outliers.index, numeric_cols] = np.nan\n",
    "\n",
    "df_lof_imputed = impute_nulls(data = df_drop_ifo)"
   ]
  },
  {
   "cell_type": "code",
   "execution_count": 144,
   "metadata": {},
   "outputs": [],
   "source": [
    "df_drop_ifo.loc[lof_outliers.index, numeric_cols] = df_lof_imputed"
   ]
  },
  {
   "cell_type": "code",
   "execution_count": 148,
   "metadata": {},
   "outputs": [],
   "source": [
    "df_noout = df_drop_ifo"
   ]
  },
  {
   "cell_type": "markdown",
   "metadata": {},
   "source": [
    "## Encoding"
   ]
  },
  {
   "cell_type": "code",
   "execution_count": 151,
   "metadata": {},
   "outputs": [],
   "source": [
    "df_noout.drop(columns=['name', 'model', 'postalCode'], inplace=True)"
   ]
  },
  {
   "cell_type": "code",
   "execution_count": 158,
   "metadata": {},
   "outputs": [],
   "source": [
    "onehot_abtest = encode_onehot(df_noout, columns=[\"abtest\"])\n",
    "df_noout_onehot = pd.concat([df_noout.reset_index(drop=True), onehot_abtest.reset_index(drop=True)], axis=1)"
   ]
  },
  {
   "cell_type": "code",
   "execution_count": null,
   "metadata": {},
   "outputs": [],
   "source": [
    "df_noout_onehot.drop(columns=[\"seller\", \"offerType\", \"abtest\"], inplace=True)\n",
    "df_noout_onehot.reset_index(drop=True, inplace=True)"
   ]
  },
  {
   "cell_type": "code",
   "execution_count": 174,
   "metadata": {},
   "outputs": [],
   "source": [
    "df_encoded = encode_target(df_noout_onehot, columns = df_noout_onehot.select_dtypes('O').columns, response_var=\"price\")"
   ]
  },
  {
   "cell_type": "code",
   "execution_count": 185,
   "metadata": {},
   "outputs": [],
   "source": [
    "X = df_encoded.drop(columns= [\"price\"])\n",
    "y = df_encoded[\"price\"]\n",
    "X_train, X_test, y_train, y_test = train_test_split(X, y, test_size=0.2, random_state=42)"
   ]
  },
  {
   "cell_type": "code",
   "execution_count": 178,
   "metadata": {},
   "outputs": [],
   "source": [
    "params_tree = {\n",
    "    'max_depth': [6, 8, 10, 20],\n",
    "    'min_samples_split': [10, 50],\n",
    "    'min_samples_leaf': [10, 50],\n",
    "    'max_leaf_nodes': [10, 20, 40, 80, 160]\n",
    "}"
   ]
  },
  {
   "cell_type": "code",
   "execution_count": null,
   "metadata": {},
   "outputs": [],
   "source": [
    "grid_search_tree = create_model(params=params_tree, method = DecisionTreeRegressor())"
   ]
  },
  {
   "cell_type": "code",
   "execution_count": null,
   "metadata": {},
   "outputs": [],
   "source": [
    "best_tree = grid_search_tree.best_estimator_"
   ]
  },
  {
   "cell_type": "code",
   "execution_count": 195,
   "metadata": {},
   "outputs": [
    {
     "data": {
      "text/html": [
       "<div>\n",
       "<style scoped>\n",
       "    .dataframe tbody tr th:only-of-type {\n",
       "        vertical-align: middle;\n",
       "    }\n",
       "\n",
       "    .dataframe tbody tr th {\n",
       "        vertical-align: top;\n",
       "    }\n",
       "\n",
       "    .dataframe thead th {\n",
       "        text-align: right;\n",
       "    }\n",
       "</style>\n",
       "<table border=\"1\" class=\"dataframe\">\n",
       "  <thead>\n",
       "    <tr style=\"text-align: right;\">\n",
       "      <th></th>\n",
       "      <th>r2_score</th>\n",
       "      <th>MAE</th>\n",
       "      <th>MSE</th>\n",
       "      <th>RMSE</th>\n",
       "    </tr>\n",
       "  </thead>\n",
       "  <tbody>\n",
       "    <tr>\n",
       "      <th>train</th>\n",
       "      <td>0.708108</td>\n",
       "      <td>2060.837481</td>\n",
       "      <td>1.262172e+07</td>\n",
       "      <td>3552.706098</td>\n",
       "    </tr>\n",
       "    <tr>\n",
       "      <th>test</th>\n",
       "      <td>0.696422</td>\n",
       "      <td>2087.372419</td>\n",
       "      <td>1.323947e+07</td>\n",
       "      <td>3638.608888</td>\n",
       "    </tr>\n",
       "  </tbody>\n",
       "</table>\n",
       "</div>"
      ],
      "text/plain": [
       "       r2_score          MAE           MSE         RMSE\n",
       "train  0.708108  2060.837481  1.262172e+07  3552.706098\n",
       "test   0.696422  2087.372419  1.323947e+07  3638.608888"
      ]
     },
     "execution_count": 195,
     "metadata": {},
     "output_type": "execute_result"
    }
   ],
   "source": [
    "y_train_pred = best_tree.predict(X_train)\n",
    "y_test_pred = best_tree.predict(X_test)\n",
    "\n",
    "get_metrics(y_train, y_train_pred, y_test, y_test_pred)"
   ]
  },
  {
   "cell_type": "code",
   "execution_count": null,
   "metadata": {},
   "outputs": [],
   "source": [
    "params_gb = {'n_estimators': [90,110],\n",
    "            'max_depth': [4, 5, 6],\n",
    "            'min_samples_split': [10, 15, 20],\n",
    "            'min_samples_leaf': [5, 7, 9],\n",
    "            'max_leaf_nodes': [70,80,90]}"
   ]
  },
  {
   "cell_type": "code",
   "execution_count": 241,
   "metadata": {},
   "outputs": [],
   "source": [
    "X_sample = X_train.sample(10000, random_state=42)\n",
    "y_sample = y_train.sample(10000, random_state=42)"
   ]
  },
  {
   "cell_type": "code",
   "execution_count": 242,
   "metadata": {},
   "outputs": [
    {
     "name": "stdout",
     "output_type": "stream",
     "text": [
      "Fitting 3 folds for each of 162 candidates, totalling 486 fits\n"
     ]
    }
   ],
   "source": [
    "grid_search_gb = create_model(params=params_gb, X_train=X_sample, y_train=y_sample, method = GradientBoostingRegressor(random_state=42, learning_rate=0.1), cv = 3)"
   ]
  },
  {
   "cell_type": "code",
   "execution_count": 243,
   "metadata": {},
   "outputs": [
    {
     "data": {
      "text/plain": [
       "{'max_depth': 5,\n",
       " 'max_leaf_nodes': 70,\n",
       " 'min_samples_leaf': 9,\n",
       " 'min_samples_split': 20,\n",
       " 'n_estimators': 90}"
      ]
     },
     "execution_count": 243,
     "metadata": {},
     "output_type": "execute_result"
    }
   ],
   "source": [
    "grid_search_gb.best_params_"
   ]
  },
  {
   "cell_type": "code",
   "execution_count": 244,
   "metadata": {},
   "outputs": [],
   "source": [
    "gb_estimator = grid_search_gb.best_estimator_"
   ]
  },
  {
   "cell_type": "code",
   "execution_count": 245,
   "metadata": {},
   "outputs": [],
   "source": [
    "y_test_pred_gb = gb_estimator.predict(X_test)\n",
    "y_train_pred_gb = gb_estimator.predict(X_train)"
   ]
  },
  {
   "cell_type": "code",
   "execution_count": 246,
   "metadata": {},
   "outputs": [
    {
     "data": {
      "text/html": [
       "<div>\n",
       "<style scoped>\n",
       "    .dataframe tbody tr th:only-of-type {\n",
       "        vertical-align: middle;\n",
       "    }\n",
       "\n",
       "    .dataframe tbody tr th {\n",
       "        vertical-align: top;\n",
       "    }\n",
       "\n",
       "    .dataframe thead th {\n",
       "        text-align: right;\n",
       "    }\n",
       "</style>\n",
       "<table border=\"1\" class=\"dataframe\">\n",
       "  <thead>\n",
       "    <tr style=\"text-align: right;\">\n",
       "      <th></th>\n",
       "      <th>r2_score</th>\n",
       "      <th>MAE</th>\n",
       "      <th>MSE</th>\n",
       "      <th>RMSE</th>\n",
       "    </tr>\n",
       "  </thead>\n",
       "  <tbody>\n",
       "    <tr>\n",
       "      <th>train</th>\n",
       "      <td>0.717401</td>\n",
       "      <td>1956.433452</td>\n",
       "      <td>1.221987e+07</td>\n",
       "      <td>3495.692429</td>\n",
       "    </tr>\n",
       "    <tr>\n",
       "      <th>test</th>\n",
       "      <td>0.713180</td>\n",
       "      <td>1972.749480</td>\n",
       "      <td>1.250864e+07</td>\n",
       "      <td>3536.756048</td>\n",
       "    </tr>\n",
       "  </tbody>\n",
       "</table>\n",
       "</div>"
      ],
      "text/plain": [
       "       r2_score          MAE           MSE         RMSE\n",
       "train  0.717401  1956.433452  1.221987e+07  3495.692429\n",
       "test   0.713180  1972.749480  1.250864e+07  3536.756048"
      ]
     },
     "execution_count": 246,
     "metadata": {},
     "output_type": "execute_result"
    }
   ],
   "source": [
    "get_metrics(y_train, y_train_pred_gb, y_test, y_test_pred_gb)"
   ]
  },
  {
   "cell_type": "code",
   "execution_count": 247,
   "metadata": {},
   "outputs": [
    {
     "data": {
      "text/plain": [
       "<Axes: xlabel='price'>"
      ]
     },
     "execution_count": 247,
     "metadata": {},
     "output_type": "execute_result"
    },
    {
     "data": {
      "image/png": "[encoded data removed]",
      "text/plain": [
       "<Figure size 640x480 with 1 Axes>"
      ]
     },
     "metadata": {},
     "output_type": "display_data"
    }
   ],
   "source": [
    "plt.plot([0, max(y_test)], [0, max(y_test)], ls = \"--\", color = \"red\")\n",
    "sns.scatterplot(x = y_test, y = y_test_pred_gb)"
   ]
  },
  {
   "cell_type": "code",
   "execution_count": 248,
   "metadata": {},
   "outputs": [
    {
     "data": {
      "text/plain": [
       "<matplotlib.lines.Line2D at 0x2d4e3afae10>"
      ]
     },
     "execution_count": 248,
     "metadata": {},
     "output_type": "execute_result"
    },
    {
     "data": {
      "image/png": "[encoded data removed]",
      "text/plain": [
       "<Figure size 640x480 with 1 Axes>"
      ]
     },
     "metadata": {},
     "output_type": "display_data"
    }
   ],
   "source": [
    "sns.scatterplot(x = y_test, y = y_test-y_test_pred_gb)\n",
    "plt.axhline(y = 0, ls = \"--\", color = \"red\")"
   ]
  }
 ],
 "metadata": {
  "kernelspec": {
   "display_name": "Python 3",
   "language": "python",
   "name": "python3"
  },
  "language_info": {
   "codemirror_mode": {
    "name": "ipython",
    "version": 3
   },
   "file_extension": ".py",
   "mimetype": "text/x-python",
   "name": "python",
   "nbconvert_exporter": "python",
   "pygments_lexer": "ipython3",
   "version": "3.11.9"
  }
 },
 "nbformat": 4,
 "nbformat_minor": 2
}
