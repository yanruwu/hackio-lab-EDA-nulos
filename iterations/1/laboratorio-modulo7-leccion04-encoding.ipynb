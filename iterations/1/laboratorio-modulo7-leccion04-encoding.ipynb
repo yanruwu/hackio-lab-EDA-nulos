{
 "cells": [
  {
   "cell_type": "markdown",
   "metadata": {},
   "source": [
    "<div style=\"text-align: center;\">\n",
    "  <img src=\"https://github.com/Hack-io-Data/Imagenes/blob/main/01-LogosHackio/logo_naranja@4x.png?raw=true\" alt=\"esquema\" />\n",
    "</div>\n"
   ]
  },
  {
   "cell_type": "markdown",
   "metadata": {},
   "source": [
    "\n",
    "# Laboratorio de Codificación de Variables Categóricas\n",
    "\n",
    "AutoRenew, la empresa líder en la venta de coches de segunda mano, continúa con el desarrollo del modelo predictivo que ayudará a estimar el precio de los vehículos usados. Hasta ahora, has realizado un análisis exploratorio, gestionado los valores nulos y tratado los outliers en el conjunto de datos. El siguiente paso en el proceso de preprocesamiento es manejar las variables categóricas para que el modelo de machine learning pueda interpretarlas correctamente.\n",
    "\n",
    "En este laboratorio, te centrarás en la **codificación de variables categóricas**. Dado que los modelos de machine learning requieren datos numéricos para funcionar, es crucial convertir las variables categóricas en un formato que los algoritmos puedan procesar. Trabajarás con el mismo conjunto de datos que has utilizado en los laboratorios anteriores, enfocándote ahora en transformar las columnas categóricas de manera efectiva.\n",
    "\n",
    "**Instrucciones:**\n",
    "\n",
    "1. **Identificación de Variables Categóricas:** Revisa el conjunto de datos e identifica las columnas que contienen variables categóricas. Estas son las columnas que contienen texto o categorías que necesitan ser transformadas en valores numéricos para ser utilizadas en el modelo de machine learning.\n",
    "\n",
    "2. **Selección de Técnicas de Codificación:** Decide qué técnica(s) de codificación aplicar a cada variable categórica. Algunas de las opciones que tienes son:\n",
    "\n",
    "   - **Label Encoding:** Asigna un número único a cada categoría dentro de una variable.\n",
    "\n",
    "   - **One-Hot Encoding:** Crea nuevas columnas binarias (0/1) para cada categoría única en una variable.\n",
    "\n",
    "   - **Target Encoding:** Utiliza la media del target (en este caso, el `price`) para codificar las categorías, si consideras que podría ser útil.\n",
    "\n",
    "3. **Aplicación de la Codificación:** Implementa las técnicas seleccionadas en las variables categóricas. Asegúrate de revisar cómo estas transformaciones afectan el conjunto de datos y de mantener un registro de los cambios realizados.\n",
    "\n",
    "4. **Verificación del Conjunto de Datos Transformado:** Una vez que hayas aplicado la codificación, verifica que el conjunto de datos resultante esté listo para ser utilizado en el modelo de machine learning. Asegúrate de que no queden variables categóricas sin codificar y que la estructura del conjunto de datos sea adecuada para el análisis.\n",
    "\n",
    "**Nota:** Este laboratorio es parte de una serie continua en la que utilizas el mismo conjunto de datos a lo largo de la semana. Documenta bien los pasos que sigas, ya que esta codificación será clave para los modelos que desarrollarás más adelante.\n",
    "\n"
   ]
  },
  {
   "cell_type": "code",
   "execution_count": 1,
   "metadata": {},
   "outputs": [],
   "source": [
    "import pandas as pd\n",
    "import sys\n",
    "sys.path.append(\"../..\")\n",
    "from src import support_encoding as se\n",
    "\n",
    "from sklearn.preprocessing import OneHotEncoder\n",
    "\n",
    "from category_encoders import TargetEncoder\n",
    "\n",
    "import warnings\n",
    "warnings.filterwarnings('ignore')"
   ]
  },
  {
   "cell_type": "code",
   "execution_count": 2,
   "metadata": {},
   "outputs": [],
   "source": [
    "df = pd.read_csv(r\"../../datos/outliers_cleansed_it1.csv\", index_col=0)"
   ]
  },
  {
   "cell_type": "code",
   "execution_count": 3,
   "metadata": {},
   "outputs": [
    {
     "data": {
      "text/plain": [
       "Index(['dateCrawled', 'name', 'seller', 'offerType', 'abtest', 'vehicleType',\n",
       "       'yearOfRegistration', 'gearbox', 'model', 'monthOfRegistration',\n",
       "       'fuelType', 'brand', 'notRepairedDamage', 'dateCreated', 'lastSeen'],\n",
       "      dtype='object')"
      ]
     },
     "execution_count": 3,
     "metadata": {},
     "output_type": "execute_result"
    }
   ],
   "source": [
    "df.select_dtypes(\"O\").columns"
   ]
  },
  {
   "cell_type": "markdown",
   "metadata": {},
   "source": [
    "Omitiremos el nombre, el modelo y el de codigo postal, ya que presentan el mismo problema: muchas categorías (para futuro podríamos agrupar los codigos postales usando geopy). Al final tenemos categorías que pueden ser independientes para cada coche, lo cual no nos ayuda en la predicción de los precios en nuestro modelo."
   ]
  },
  {
   "cell_type": "code",
   "execution_count": 4,
   "metadata": {},
   "outputs": [],
   "source": [
    "df.drop(columns=['name', 'model', 'postalCode'], inplace=True)"
   ]
  },
  {
   "cell_type": "code",
   "execution_count": 5,
   "metadata": {},
   "outputs": [],
   "source": [
    "df[\"dateCreated\"] = pd.to_datetime(df[\"dateCreated\"]).apply(lambda x: x.strftime(\"%Y-%m\"))\n",
    "df[\"dateCrawled\"] = pd.to_datetime(df[\"dateCrawled\"]).apply(lambda x: x.strftime(\"%Y-%m\"))\n",
    "df[\"lastSeen\"] = pd.to_datetime(df[\"lastSeen\"]).apply(lambda x: x.strftime(\"%Y-%m\"))"
   ]
  },
  {
   "cell_type": "code",
   "execution_count": 6,
   "metadata": {},
   "outputs": [],
   "source": [
    "cat_cols = df.select_dtypes(\"O\").columns"
   ]
  },
  {
   "cell_type": "code",
   "execution_count": 7,
   "metadata": {},
   "outputs": [
    {
     "name": "stdout",
     "output_type": "stream",
     "text": [
      "Index(['dateCrawled', 'seller', 'offerType', 'abtest', 'vehicleType',\n",
      "       'yearOfRegistration', 'gearbox', 'monthOfRegistration', 'fuelType',\n",
      "       'brand', 'notRepairedDamage', 'dateCreated', 'lastSeen'],\n",
      "      dtype='object')\n"
     ]
    }
   ],
   "source": [
    "print(cat_cols)"
   ]
  },
  {
   "cell_type": "code",
   "execution_count": 8,
   "metadata": {},
   "outputs": [],
   "source": [
    "# se.plot_cats(data = df, columns=cat_cols, rv = \"price\" , plot_size=(16,22))"
   ]
  },
  {
   "cell_type": "code",
   "execution_count": 9,
   "metadata": {},
   "outputs": [],
   "source": [
    "# asunciones = se.Asunciones(dataframe=df, columna_numerica=\"price\")\n",
    "\n",
    "# for categoria in cat_cols:   \n",
    "\n",
    "#     print(f\"Estamos analizando la variable {categoria.upper()}\")\n",
    "    \n",
    "#     asunciones.identificar_normalidad(metodo = \"kolmogorov\") \n",
    "\n",
    "#     # comprobamos la homogeneidad de varianzas\n",
    "#     asunciones.identificar_homogeneidad(columna_categorica = categoria)\n",
    "\n",
    "#     # instanciamos la clase para evaluar si hay diferencias entre los distintos grupos de las variables categóricas\n",
    "#     test = se.TestEstadisticos(df, \"price\", categoria)\n",
    "#     test.run_all_tests()\n",
    "#     print(\"\\n###########################\\n\")"
   ]
  },
  {
   "cell_type": "markdown",
   "metadata": {},
   "source": [
    "Las columnas SELLER, OFFERTYPE, ABTEST no presentan diferencias significativas entre cada una de sus categorías."
   ]
  },
  {
   "cell_type": "code",
   "execution_count": 10,
   "metadata": {},
   "outputs": [
    {
     "data": {
      "text/plain": [
       "seller\n",
       "private       0.999994\n",
       "commercial    0.000006\n",
       "Name: proportion, dtype: float64"
      ]
     },
     "metadata": {},
     "output_type": "display_data"
    },
    {
     "data": {
      "text/plain": [
       "offerType\n",
       "offer      0.999986\n",
       "request    0.000014\n",
       "Name: proportion, dtype: float64"
      ]
     },
     "metadata": {},
     "output_type": "display_data"
    },
    {
     "data": {
      "text/plain": [
       "abtest\n",
       "test       0.518322\n",
       "control    0.481678\n",
       "Name: proportion, dtype: float64"
      ]
     },
     "metadata": {},
     "output_type": "display_data"
    }
   ],
   "source": [
    "display(df[\"seller\"].value_counts(normalize=True))\n",
    "display(df[\"offerType\"].value_counts(normalize=True))\n",
    "display(df[\"abtest\"].value_counts(normalize=True))"
   ]
  },
  {
   "cell_type": "markdown",
   "metadata": {},
   "source": [
    "Vemos que en SELLER y OFFERTYPE hay una distribución clara en las categorías: vendedores privados y ofertas son lo mayoritariamente predominante. De esta forma, podemos optar por omitir estas dos columnas categóricas, ya que no podremos predecir bien los precios de aquellas excepciones que son de vendedor comercial o tipo de oferta petición.\n",
    "\n",
    "Para la columna abtest simplemente haremos un one-hot encoder."
   ]
  },
  {
   "cell_type": "code",
   "execution_count": 11,
   "metadata": {},
   "outputs": [],
   "source": [
    "onehot = OneHotEncoder()\n",
    "trans_one_hot = onehot.fit_transform(df[[\"abtest\"]])\n",
    "oh_df = pd.DataFrame(trans_one_hot.toarray(), columns=onehot.get_feature_names_out())"
   ]
  },
  {
   "cell_type": "code",
   "execution_count": 12,
   "metadata": {},
   "outputs": [],
   "source": [
    "df = pd.concat([df.reset_index(drop=True), oh_df.reset_index(drop=True)], axis=1)"
   ]
  },
  {
   "cell_type": "code",
   "execution_count": 13,
   "metadata": {},
   "outputs": [
    {
     "data": {
      "text/html": [
       "<div>\n",
       "<style scoped>\n",
       "    .dataframe tbody tr th:only-of-type {\n",
       "        vertical-align: middle;\n",
       "    }\n",
       "\n",
       "    .dataframe tbody tr th {\n",
       "        vertical-align: top;\n",
       "    }\n",
       "\n",
       "    .dataframe thead th {\n",
       "        text-align: right;\n",
       "    }\n",
       "</style>\n",
       "<table border=\"1\" class=\"dataframe\">\n",
       "  <thead>\n",
       "    <tr style=\"text-align: right;\">\n",
       "      <th></th>\n",
       "      <th>dateCrawled</th>\n",
       "      <th>price</th>\n",
       "      <th>vehicleType</th>\n",
       "      <th>yearOfRegistration</th>\n",
       "      <th>gearbox</th>\n",
       "      <th>powerCV</th>\n",
       "      <th>kilometer</th>\n",
       "      <th>monthOfRegistration</th>\n",
       "      <th>fuelType</th>\n",
       "      <th>brand</th>\n",
       "      <th>notRepairedDamage</th>\n",
       "      <th>dateCreated</th>\n",
       "      <th>lastSeen</th>\n",
       "      <th>abtest_control</th>\n",
       "      <th>abtest_test</th>\n",
       "    </tr>\n",
       "  </thead>\n",
       "  <tbody>\n",
       "    <tr>\n",
       "      <th>0</th>\n",
       "      <td>2016-03</td>\n",
       "      <td>480.0</td>\n",
       "      <td>unknown</td>\n",
       "      <td>Coche Moderno</td>\n",
       "      <td>manually</td>\n",
       "      <td>-0.382606</td>\n",
       "      <td>0.0</td>\n",
       "      <td>unknown</td>\n",
       "      <td>petrol</td>\n",
       "      <td>volkswagen</td>\n",
       "      <td>unknown</td>\n",
       "      <td>2016-03</td>\n",
       "      <td>2016-04</td>\n",
       "      <td>0.0</td>\n",
       "      <td>1.0</td>\n",
       "    </tr>\n",
       "    <tr>\n",
       "      <th>1</th>\n",
       "      <td>2016-03</td>\n",
       "      <td>18300.0</td>\n",
       "      <td>coupe</td>\n",
       "      <td>Coche Contemporáneo</td>\n",
       "      <td>manually</td>\n",
       "      <td>1.218855</td>\n",
       "      <td>-0.5</td>\n",
       "      <td>may</td>\n",
       "      <td>diesel</td>\n",
       "      <td>audi</td>\n",
       "      <td>yes</td>\n",
       "      <td>2016-03</td>\n",
       "      <td>2016-04</td>\n",
       "      <td>0.0</td>\n",
       "      <td>1.0</td>\n",
       "    </tr>\n",
       "    <tr>\n",
       "      <th>2</th>\n",
       "      <td>2016-03</td>\n",
       "      <td>9800.0</td>\n",
       "      <td>suv</td>\n",
       "      <td>Coche Moderno</td>\n",
       "      <td>automatic</td>\n",
       "      <td>0.790609</td>\n",
       "      <td>-0.5</td>\n",
       "      <td>august</td>\n",
       "      <td>diesel</td>\n",
       "      <td>jeep</td>\n",
       "      <td>unknown</td>\n",
       "      <td>2016-03</td>\n",
       "      <td>2016-04</td>\n",
       "      <td>0.0</td>\n",
       "      <td>1.0</td>\n",
       "    </tr>\n",
       "    <tr>\n",
       "      <th>3</th>\n",
       "      <td>2016-03</td>\n",
       "      <td>1500.0</td>\n",
       "      <td>small car</td>\n",
       "      <td>Coche Moderno</td>\n",
       "      <td>manually</td>\n",
       "      <td>-0.642369</td>\n",
       "      <td>0.0</td>\n",
       "      <td>june</td>\n",
       "      <td>petrol</td>\n",
       "      <td>volkswagen</td>\n",
       "      <td>no</td>\n",
       "      <td>2016-03</td>\n",
       "      <td>2016-03</td>\n",
       "      <td>0.0</td>\n",
       "      <td>1.0</td>\n",
       "    </tr>\n",
       "    <tr>\n",
       "      <th>4</th>\n",
       "      <td>2016-03</td>\n",
       "      <td>3600.0</td>\n",
       "      <td>small car</td>\n",
       "      <td>Coche Moderno</td>\n",
       "      <td>manually</td>\n",
       "      <td>-0.741195</td>\n",
       "      <td>-1.2</td>\n",
       "      <td>july</td>\n",
       "      <td>diesel</td>\n",
       "      <td>skoda</td>\n",
       "      <td>no</td>\n",
       "      <td>2016-03</td>\n",
       "      <td>2016-04</td>\n",
       "      <td>0.0</td>\n",
       "      <td>1.0</td>\n",
       "    </tr>\n",
       "  </tbody>\n",
       "</table>\n",
       "</div>"
      ],
      "text/plain": [
       "  dateCrawled    price vehicleType   yearOfRegistration    gearbox   powerCV  \\\n",
       "0     2016-03    480.0     unknown        Coche Moderno   manually -0.382606   \n",
       "1     2016-03  18300.0       coupe  Coche Contemporáneo   manually  1.218855   \n",
       "2     2016-03   9800.0         suv        Coche Moderno  automatic  0.790609   \n",
       "3     2016-03   1500.0   small car        Coche Moderno   manually -0.642369   \n",
       "4     2016-03   3600.0   small car        Coche Moderno   manually -0.741195   \n",
       "\n",
       "   kilometer monthOfRegistration fuelType       brand notRepairedDamage  \\\n",
       "0        0.0             unknown   petrol  volkswagen           unknown   \n",
       "1       -0.5                 may   diesel        audi               yes   \n",
       "2       -0.5              august   diesel        jeep           unknown   \n",
       "3        0.0                june   petrol  volkswagen                no   \n",
       "4       -1.2                july   diesel       skoda                no   \n",
       "\n",
       "  dateCreated lastSeen  abtest_control  abtest_test  \n",
       "0     2016-03  2016-04             0.0          1.0  \n",
       "1     2016-03  2016-04             0.0          1.0  \n",
       "2     2016-03  2016-04             0.0          1.0  \n",
       "3     2016-03  2016-03             0.0          1.0  \n",
       "4     2016-03  2016-04             0.0          1.0  "
      ]
     },
     "execution_count": 13,
     "metadata": {},
     "output_type": "execute_result"
    }
   ],
   "source": [
    "df.drop(columns=[\"seller\", \"offerType\", \"abtest\"], inplace=True)\n",
    "\n",
    "df.head()"
   ]
  },
  {
   "cell_type": "code",
   "execution_count": 14,
   "metadata": {},
   "outputs": [],
   "source": [
    "df.reset_index(drop=True, inplace=True)"
   ]
  },
  {
   "cell_type": "markdown",
   "metadata": {},
   "source": [
    "Ahora tratemos con las otras categóricas que sí presentan diferencias significativas entre las categorías. A estas las encodearemos usando el target, ya que mantiene un contexto general de los datos, usando de referencia nuestra variable respuesta."
   ]
  },
  {
   "cell_type": "code",
   "execution_count": 15,
   "metadata": {},
   "outputs": [
    {
     "data": {
      "text/plain": [
       "Index(['dateCrawled', 'vehicleType', 'yearOfRegistration', 'gearbox',\n",
       "       'monthOfRegistration', 'fuelType', 'brand', 'notRepairedDamage',\n",
       "       'dateCreated', 'lastSeen'],\n",
       "      dtype='object')"
      ]
     },
     "execution_count": 15,
     "metadata": {},
     "output_type": "execute_result"
    }
   ],
   "source": [
    "df.select_dtypes(\"O\").columns"
   ]
  },
  {
   "cell_type": "code",
   "execution_count": 16,
   "metadata": {},
   "outputs": [],
   "source": [
    "encoder = TargetEncoder(cols = df.select_dtypes(\"O\").columns)\n",
    "df_encoded = encoder.fit_transform(X = df, y = df[\"price\"])"
   ]
  },
  {
   "cell_type": "code",
   "execution_count": 17,
   "metadata": {},
   "outputs": [
    {
     "data": {
      "text/html": [
       "<div>\n",
       "<style scoped>\n",
       "    .dataframe tbody tr th:only-of-type {\n",
       "        vertical-align: middle;\n",
       "    }\n",
       "\n",
       "    .dataframe tbody tr th {\n",
       "        vertical-align: top;\n",
       "    }\n",
       "\n",
       "    .dataframe thead th {\n",
       "        text-align: right;\n",
       "    }\n",
       "</style>\n",
       "<table border=\"1\" class=\"dataframe\">\n",
       "  <thead>\n",
       "    <tr style=\"text-align: right;\">\n",
       "      <th></th>\n",
       "      <th>dateCrawled</th>\n",
       "      <th>price</th>\n",
       "      <th>vehicleType</th>\n",
       "      <th>yearOfRegistration</th>\n",
       "      <th>gearbox</th>\n",
       "      <th>powerCV</th>\n",
       "      <th>kilometer</th>\n",
       "      <th>monthOfRegistration</th>\n",
       "      <th>fuelType</th>\n",
       "      <th>brand</th>\n",
       "      <th>notRepairedDamage</th>\n",
       "      <th>dateCreated</th>\n",
       "      <th>lastSeen</th>\n",
       "      <th>abtest_control</th>\n",
       "      <th>abtest_test</th>\n",
       "    </tr>\n",
       "  </thead>\n",
       "  <tbody>\n",
       "    <tr>\n",
       "      <th>0</th>\n",
       "      <td>6065.879563</td>\n",
       "      <td>480.0</td>\n",
       "      <td>5373.855068</td>\n",
       "      <td>4737.005685</td>\n",
       "      <td>4865.179692</td>\n",
       "      <td>-0.382606</td>\n",
       "      <td>0.0</td>\n",
       "      <td>2842.952996</td>\n",
       "      <td>5194.343734</td>\n",
       "      <td>5482.137159</td>\n",
       "      <td>3498.590743</td>\n",
       "      <td>6063.274713</td>\n",
       "      <td>7060.183256</td>\n",
       "      <td>0.0</td>\n",
       "      <td>1.0</td>\n",
       "    </tr>\n",
       "    <tr>\n",
       "      <th>1</th>\n",
       "      <td>6065.879563</td>\n",
       "      <td>18300.0</td>\n",
       "      <td>12837.225874</td>\n",
       "      <td>12610.525151</td>\n",
       "      <td>4865.179692</td>\n",
       "      <td>1.218855</td>\n",
       "      <td>-0.5</td>\n",
       "      <td>6210.592551</td>\n",
       "      <td>8615.459563</td>\n",
       "      <td>9051.491259</td>\n",
       "      <td>2472.504316</td>\n",
       "      <td>6063.274713</td>\n",
       "      <td>7060.183256</td>\n",
       "      <td>0.0</td>\n",
       "      <td>1.0</td>\n",
       "    </tr>\n",
       "    <tr>\n",
       "      <th>2</th>\n",
       "      <td>6065.879563</td>\n",
       "      <td>9800.0</td>\n",
       "      <td>13321.706814</td>\n",
       "      <td>4737.005685</td>\n",
       "      <td>10741.705529</td>\n",
       "      <td>0.790609</td>\n",
       "      <td>-0.5</td>\n",
       "      <td>6208.520949</td>\n",
       "      <td>8615.459563</td>\n",
       "      <td>11142.862821</td>\n",
       "      <td>3498.590743</td>\n",
       "      <td>6063.274713</td>\n",
       "      <td>7060.183256</td>\n",
       "      <td>0.0</td>\n",
       "      <td>1.0</td>\n",
       "    </tr>\n",
       "    <tr>\n",
       "      <th>3</th>\n",
       "      <td>6065.879563</td>\n",
       "      <td>1500.0</td>\n",
       "      <td>2951.394227</td>\n",
       "      <td>4737.005685</td>\n",
       "      <td>4865.179692</td>\n",
       "      <td>-0.642369</td>\n",
       "      <td>0.0</td>\n",
       "      <td>6362.532643</td>\n",
       "      <td>5194.343734</td>\n",
       "      <td>5482.137159</td>\n",
       "      <td>7187.912351</td>\n",
       "      <td>6063.274713</td>\n",
       "      <td>4845.496188</td>\n",
       "      <td>0.0</td>\n",
       "      <td>1.0</td>\n",
       "    </tr>\n",
       "    <tr>\n",
       "      <th>4</th>\n",
       "      <td>6065.879563</td>\n",
       "      <td>3600.0</td>\n",
       "      <td>2951.394227</td>\n",
       "      <td>4737.005685</td>\n",
       "      <td>4865.179692</td>\n",
       "      <td>-0.741195</td>\n",
       "      <td>-1.2</td>\n",
       "      <td>7032.572993</td>\n",
       "      <td>8615.459563</td>\n",
       "      <td>6544.456833</td>\n",
       "      <td>7187.912351</td>\n",
       "      <td>6063.274713</td>\n",
       "      <td>7060.183256</td>\n",
       "      <td>0.0</td>\n",
       "      <td>1.0</td>\n",
       "    </tr>\n",
       "  </tbody>\n",
       "</table>\n",
       "</div>"
      ],
      "text/plain": [
       "   dateCrawled    price   vehicleType  yearOfRegistration       gearbox  \\\n",
       "0  6065.879563    480.0   5373.855068         4737.005685   4865.179692   \n",
       "1  6065.879563  18300.0  12837.225874        12610.525151   4865.179692   \n",
       "2  6065.879563   9800.0  13321.706814         4737.005685  10741.705529   \n",
       "3  6065.879563   1500.0   2951.394227         4737.005685   4865.179692   \n",
       "4  6065.879563   3600.0   2951.394227         4737.005685   4865.179692   \n",
       "\n",
       "    powerCV  kilometer  monthOfRegistration     fuelType         brand  \\\n",
       "0 -0.382606        0.0          2842.952996  5194.343734   5482.137159   \n",
       "1  1.218855       -0.5          6210.592551  8615.459563   9051.491259   \n",
       "2  0.790609       -0.5          6208.520949  8615.459563  11142.862821   \n",
       "3 -0.642369        0.0          6362.532643  5194.343734   5482.137159   \n",
       "4 -0.741195       -1.2          7032.572993  8615.459563   6544.456833   \n",
       "\n",
       "   notRepairedDamage  dateCreated     lastSeen  abtest_control  abtest_test  \n",
       "0        3498.590743  6063.274713  7060.183256             0.0          1.0  \n",
       "1        2472.504316  6063.274713  7060.183256             0.0          1.0  \n",
       "2        3498.590743  6063.274713  7060.183256             0.0          1.0  \n",
       "3        7187.912351  6063.274713  4845.496188             0.0          1.0  \n",
       "4        7187.912351  6063.274713  7060.183256             0.0          1.0  "
      ]
     },
     "execution_count": 17,
     "metadata": {},
     "output_type": "execute_result"
    }
   ],
   "source": [
    "df_encoded.head()"
   ]
  },
  {
   "cell_type": "code",
   "execution_count": 19,
   "metadata": {},
   "outputs": [],
   "source": [
    "df_encoded.to_csv(\"../../datos/encoded_it1.csv\")"
   ]
  }
 ],
 "metadata": {
  "kernelspec": {
   "display_name": "Python 3",
   "language": "python",
   "name": "python3"
  },
  "language_info": {
   "codemirror_mode": {
    "name": "ipython",
    "version": 3
   },
   "file_extension": ".py",
   "mimetype": "text/x-python",
   "name": "python",
   "nbconvert_exporter": "python",
   "pygments_lexer": "ipython3",
   "version": "3.11.9"
  }
 },
 "nbformat": 4,
 "nbformat_minor": 2
}
