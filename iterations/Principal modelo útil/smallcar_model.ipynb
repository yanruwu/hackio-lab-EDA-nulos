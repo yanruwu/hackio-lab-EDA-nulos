{
 "cells": [
  {
   "cell_type": "markdown",
   "metadata": {},
   "source": [
    "# Modelo predictivo para coches pequeños (`vehicleType` = \"small car\")"
   ]
  },
  {
   "cell_type": "code",
   "execution_count": 248,
   "metadata": {},
   "outputs": [],
   "source": [
    "import pandas as pd\n",
    "import numpy as np\n",
    "\n",
    "import pandas as pd\n",
    "from sklearn.experimental import enable_iterative_imputer\n",
    "from sklearn.impute import SimpleImputer, IterativeImputer, KNNImputer\n",
    "from sklearn.ensemble import RandomForestRegressor\n",
    "\n",
    "from sklearn.preprocessing import MinMaxScaler, StandardScaler, RobustScaler\n",
    "\n",
    "import seaborn as sns\n",
    "import matplotlib.pyplot as plt\n",
    "\n",
    "from sklearn.ensemble import IsolationForest\n",
    "from sklearn.neighbors import LocalOutlierFactor\n",
    "\n",
    "from itertools import product\n",
    "\n",
    "from tqdm import tqdm\n",
    "\n",
    "from sklearn.experimental import enable_iterative_imputer\n",
    "from sklearn.impute import IterativeImputer\n",
    "from sklearn.ensemble import RandomForestRegressor\n",
    "\n",
    "from sklearn.preprocessing import OneHotEncoder\n",
    "\n",
    "from category_encoders import TargetEncoder\n",
    "\n",
    "from sklearn.linear_model import LinearRegression\n",
    "from sklearn.tree import DecisionTreeRegressor, plot_tree\n",
    "from sklearn.ensemble import RandomForestRegressor\n",
    "from sklearn.model_selection import train_test_split,GridSearchCV\n",
    "from sklearn.metrics import r2_score, mean_squared_error, mean_absolute_error\n",
    "\n",
    "from sklearn.ensemble import RandomForestRegressor\n",
    "from sklearn.ensemble import GradientBoostingRegressor\n",
    "\n",
    "import warnings\n",
    "warnings.filterwarnings('ignore')\n",
    "\n",
    "import sys\n",
    "sys.path.append(\"../..\")\n",
    "from src.support_ml import * "
   ]
  },
  {
   "cell_type": "code",
   "execution_count": 249,
   "metadata": {},
   "outputs": [],
   "source": [
    "params_tree = {\n",
    "    'max_depth': [6, 8, 10, 20],\n",
    "    'min_samples_split': [10, 50],\n",
    "    'min_samples_leaf': [10, 50],\n",
    "    'max_leaf_nodes': [10, 20, 40, 80, 160]\n",
    "}"
   ]
  },
  {
   "cell_type": "code",
   "execution_count": 250,
   "metadata": {},
   "outputs": [],
   "source": [
    "df = pd.read_csv(\"../../datos/autorenew.csv\")"
   ]
  },
  {
   "cell_type": "code",
   "execution_count": 251,
   "metadata": {},
   "outputs": [],
   "source": [
    "df = df[df[\"vehicleType\"] == \"small car\"]\n",
    "df.drop(columns = \"vehicleType\", inplace = True)"
   ]
  },
  {
   "cell_type": "markdown",
   "metadata": {},
   "source": [
    "## EDA and nulls"
   ]
  },
  {
   "cell_type": "markdown",
   "metadata": {},
   "source": [
    "Mapa para los valores de los meses."
   ]
  },
  {
   "cell_type": "code",
   "execution_count": 252,
   "metadata": {},
   "outputs": [],
   "source": [
    "month_map = {\n",
    "    0: \"unknown\",\n",
    "    1: \"january\",\n",
    "    2: \"february\",\n",
    "    3: \"march\",\n",
    "    4: \"april\",\n",
    "    5: \"may\",\n",
    "    6: \"june\",\n",
    "    7: \"july\",\n",
    "    8: \"august\",\n",
    "    9: \"september\",\n",
    "    10: \"october\",\n",
    "    11: \"november\",\n",
    "    12: \"december\"\n",
    "}"
   ]
  },
  {
   "cell_type": "markdown",
   "metadata": {},
   "source": [
    "Simlpificamos las fechas y así agrupamos en categóricas con menos valores."
   ]
  },
  {
   "cell_type": "code",
   "execution_count": 253,
   "metadata": {},
   "outputs": [],
   "source": [
    "df[\"dateCreated\"] = pd.to_datetime(df[\"dateCreated\"]).apply(lambda x: x.strftime(\"%Y-%m\"))\n",
    "df[\"dateCrawled\"] = pd.to_datetime(df[\"dateCrawled\"]).apply(lambda x: x.strftime(\"%Y-%m\"))\n",
    "df[\"lastSeen\"] = pd.to_datetime(df[\"lastSeen\"]).apply(lambda x: x.strftime(\"%Y-%m\"))"
   ]
  },
  {
   "cell_type": "markdown",
   "metadata": {},
   "source": [
    "Hacemos el proceso mencionado en el paso de tratamiento de nulos (otro notebook). Además también agrupamos los años en grupos más concretos que nos reducirán las categorías de los años."
   ]
  },
  {
   "cell_type": "code",
   "execution_count": 254,
   "metadata": {},
   "outputs": [],
   "source": [
    "df.drop(index = df[df[\"price\"]<=250].index, inplace=True)\n",
    "\n",
    "upper_error_index = df[(df[\"price\"] > 1.7e+05) & (df[\"powerCV\"] < 400)].index\n",
    "df.drop(index=upper_error_index, inplace=True)\n",
    "\n",
    "df.drop(index = df[df[\"price\"] > 1e+9].index, inplace=True)\n",
    "\n",
    "cv_cond = (df[\"powerCV\"] < 50) | (df[\"powerCV\"] > 1000)\n",
    "df.loc[df[cv_cond].index, \"powerCV\"] = np.nan\n",
    "\n",
    "cond_year = (df[\"yearOfRegistration\"] < 1900) | (df[\"yearOfRegistration\"] >= 2017)\n",
    "df.loc[df[cond_year].index, \"yearOfRegistration\"] = 'unknown'\n",
    "\n",
    "coche_year_dicc = {\n",
    "    \"Coche Vintage\": list(range(1900, 1946)),\n",
    "    \"Coche Clásico\": list(range(1946, 1971)),\n",
    "    \"Coche Retro-Moderno\": list(range(1971, 1991)),\n",
    "    \"Coche Moderno\": list(range(1991, 2011)),\n",
    "    \"Coche Contemporáneo\": list(range(2011, 2025)),\n",
    "    \"unknown\" : [\"unknown\"]\n",
    "}\n",
    "\n",
    "year_to_category = {}\n",
    "\n",
    "for category, years in coche_year_dicc.items():\n",
    "    for year in years:\n",
    "        year_to_category[year] = category\n",
    "\n",
    "df[\"yearOfRegistration\"] = df[\"yearOfRegistration\"].map(year_to_category)\n",
    "\n",
    "\n",
    "df[\"monthOfRegistration\"] = df[\"monthOfRegistration\"].map(month_map)\n",
    "\n",
    "for col in df.select_dtypes(\"O\").columns:\n",
    "    df.loc[df[df[col].isna()].index, col] = 'unknown'\n",
    "\n",
    "df.reset_index(drop=True, inplace=True)"
   ]
  },
  {
   "cell_type": "markdown",
   "metadata": {},
   "source": [
    "Imputamos los nulos que se hayan generado en las numéricas."
   ]
  },
  {
   "cell_type": "code",
   "execution_count": 255,
   "metadata": {},
   "outputs": [
    {
     "name": "stdout",
     "output_type": "stream",
     "text": [
      "[IterativeImputer] Completing matrix with shape (73829, 5)\n",
      "[IterativeImputer] Ending imputation round 1/10, elapsed time 8.88\n",
      "[IterativeImputer] Change: 331.3126941483336, scaled tolerance: 150.0 \n",
      "[IterativeImputer] Ending imputation round 2/10, elapsed time 19.04\n",
      "[IterativeImputer] Change: 65.38999999999999, scaled tolerance: 150.0 \n",
      "[IterativeImputer] Early stopping criterion reached.\n"
     ]
    }
   ],
   "source": [
    "df_treated = impute_nulls(df)"
   ]
  },
  {
   "cell_type": "code",
   "execution_count": 256,
   "metadata": {},
   "outputs": [],
   "source": [
    "df_imputed = df.copy()\n",
    "df_imputed[df_treated.columns] = df_treated"
   ]
  },
  {
   "cell_type": "code",
   "execution_count": 257,
   "metadata": {},
   "outputs": [
    {
     "data": {
      "text/html": [
       "<div>\n",
       "<style scoped>\n",
       "    .dataframe tbody tr th:only-of-type {\n",
       "        vertical-align: middle;\n",
       "    }\n",
       "\n",
       "    .dataframe tbody tr th {\n",
       "        vertical-align: top;\n",
       "    }\n",
       "\n",
       "    .dataframe thead th {\n",
       "        text-align: right;\n",
       "    }\n",
       "</style>\n",
       "<table border=\"1\" class=\"dataframe\">\n",
       "  <thead>\n",
       "    <tr style=\"text-align: right;\">\n",
       "      <th></th>\n",
       "      <th>dateCrawled</th>\n",
       "      <th>name</th>\n",
       "      <th>seller</th>\n",
       "      <th>offerType</th>\n",
       "      <th>price</th>\n",
       "      <th>abtest</th>\n",
       "      <th>yearOfRegistration</th>\n",
       "      <th>gearbox</th>\n",
       "      <th>powerCV</th>\n",
       "      <th>model</th>\n",
       "      <th>kilometer</th>\n",
       "      <th>monthOfRegistration</th>\n",
       "      <th>fuelType</th>\n",
       "      <th>brand</th>\n",
       "      <th>notRepairedDamage</th>\n",
       "      <th>dateCreated</th>\n",
       "      <th>nrOfPictures</th>\n",
       "      <th>postalCode</th>\n",
       "      <th>lastSeen</th>\n",
       "    </tr>\n",
       "  </thead>\n",
       "  <tbody>\n",
       "    <tr>\n",
       "      <th>0</th>\n",
       "      <td>2016-03</td>\n",
       "      <td>GOLF_4_1_4__3TÜRER</td>\n",
       "      <td>private</td>\n",
       "      <td>offer</td>\n",
       "      <td>1500.0</td>\n",
       "      <td>test</td>\n",
       "      <td>Coche Moderno</td>\n",
       "      <td>manually</td>\n",
       "      <td>74.00</td>\n",
       "      <td>golf</td>\n",
       "      <td>150000.0</td>\n",
       "      <td>june</td>\n",
       "      <td>petrol</td>\n",
       "      <td>volkswagen</td>\n",
       "      <td>no</td>\n",
       "      <td>2016-03</td>\n",
       "      <td>0.0</td>\n",
       "      <td>91074.0</td>\n",
       "      <td>2016-03</td>\n",
       "    </tr>\n",
       "    <tr>\n",
       "      <th>1</th>\n",
       "      <td>2016-03</td>\n",
       "      <td>Skoda_Fabia_1.4_TDI_PD_Classic</td>\n",
       "      <td>private</td>\n",
       "      <td>offer</td>\n",
       "      <td>3600.0</td>\n",
       "      <td>test</td>\n",
       "      <td>Coche Moderno</td>\n",
       "      <td>manually</td>\n",
       "      <td>68.00</td>\n",
       "      <td>fabia</td>\n",
       "      <td>90000.0</td>\n",
       "      <td>july</td>\n",
       "      <td>diesel</td>\n",
       "      <td>skoda</td>\n",
       "      <td>no</td>\n",
       "      <td>2016-03</td>\n",
       "      <td>0.0</td>\n",
       "      <td>60437.0</td>\n",
       "      <td>2016-04</td>\n",
       "    </tr>\n",
       "    <tr>\n",
       "      <th>2</th>\n",
       "      <td>2016-03</td>\n",
       "      <td>VW_Golf_4_5_tuerig_zu_verkaufen_mit_Anhaengerk...</td>\n",
       "      <td>private</td>\n",
       "      <td>offer</td>\n",
       "      <td>999.0</td>\n",
       "      <td>test</td>\n",
       "      <td>Coche Moderno</td>\n",
       "      <td>manually</td>\n",
       "      <td>100.00</td>\n",
       "      <td>golf</td>\n",
       "      <td>150000.0</td>\n",
       "      <td>unknown</td>\n",
       "      <td>unknown</td>\n",
       "      <td>volkswagen</td>\n",
       "      <td>unknown</td>\n",
       "      <td>2016-03</td>\n",
       "      <td>0.0</td>\n",
       "      <td>27472.0</td>\n",
       "      <td>2016-03</td>\n",
       "    </tr>\n",
       "    <tr>\n",
       "      <th>3</th>\n",
       "      <td>2016-03</td>\n",
       "      <td>KA_Lufthansa_Edition_450€_VB</td>\n",
       "      <td>private</td>\n",
       "      <td>offer</td>\n",
       "      <td>450.0</td>\n",
       "      <td>test</td>\n",
       "      <td>Coche Vintage</td>\n",
       "      <td>unknown</td>\n",
       "      <td>57.43</td>\n",
       "      <td>ka</td>\n",
       "      <td>5000.0</td>\n",
       "      <td>unknown</td>\n",
       "      <td>petrol</td>\n",
       "      <td>ford</td>\n",
       "      <td>unknown</td>\n",
       "      <td>2016-03</td>\n",
       "      <td>0.0</td>\n",
       "      <td>24148.0</td>\n",
       "      <td>2016-03</td>\n",
       "    </tr>\n",
       "    <tr>\n",
       "      <th>4</th>\n",
       "      <td>2016-03</td>\n",
       "      <td>Renault_Twingo_1.2_16V_Aut.</td>\n",
       "      <td>private</td>\n",
       "      <td>offer</td>\n",
       "      <td>1750.0</td>\n",
       "      <td>control</td>\n",
       "      <td>Coche Moderno</td>\n",
       "      <td>automatic</td>\n",
       "      <td>74.00</td>\n",
       "      <td>twingo</td>\n",
       "      <td>150000.0</td>\n",
       "      <td>february</td>\n",
       "      <td>petrol</td>\n",
       "      <td>renault</td>\n",
       "      <td>no</td>\n",
       "      <td>2016-03</td>\n",
       "      <td>0.0</td>\n",
       "      <td>65599.0</td>\n",
       "      <td>2016-04</td>\n",
       "    </tr>\n",
       "  </tbody>\n",
       "</table>\n",
       "</div>"
      ],
      "text/plain": [
       "  dateCrawled                                               name   seller  \\\n",
       "0     2016-03                                 GOLF_4_1_4__3TÜRER  private   \n",
       "1     2016-03                     Skoda_Fabia_1.4_TDI_PD_Classic  private   \n",
       "2     2016-03  VW_Golf_4_5_tuerig_zu_verkaufen_mit_Anhaengerk...  private   \n",
       "3     2016-03                       KA_Lufthansa_Edition_450€_VB  private   \n",
       "4     2016-03                        Renault_Twingo_1.2_16V_Aut.  private   \n",
       "\n",
       "  offerType   price   abtest yearOfRegistration    gearbox  powerCV   model  \\\n",
       "0     offer  1500.0     test      Coche Moderno   manually    74.00    golf   \n",
       "1     offer  3600.0     test      Coche Moderno   manually    68.00   fabia   \n",
       "2     offer   999.0     test      Coche Moderno   manually   100.00    golf   \n",
       "3     offer   450.0     test      Coche Vintage    unknown    57.43      ka   \n",
       "4     offer  1750.0  control      Coche Moderno  automatic    74.00  twingo   \n",
       "\n",
       "   kilometer monthOfRegistration fuelType       brand notRepairedDamage  \\\n",
       "0   150000.0                june   petrol  volkswagen                no   \n",
       "1    90000.0                july   diesel       skoda                no   \n",
       "2   150000.0             unknown  unknown  volkswagen           unknown   \n",
       "3     5000.0             unknown   petrol        ford           unknown   \n",
       "4   150000.0            february   petrol     renault                no   \n",
       "\n",
       "  dateCreated  nrOfPictures  postalCode lastSeen  \n",
       "0     2016-03           0.0     91074.0  2016-03  \n",
       "1     2016-03           0.0     60437.0  2016-04  \n",
       "2     2016-03           0.0     27472.0  2016-03  \n",
       "3     2016-03           0.0     24148.0  2016-03  \n",
       "4     2016-03           0.0     65599.0  2016-04  "
      ]
     },
     "execution_count": 257,
     "metadata": {},
     "output_type": "execute_result"
    }
   ],
   "source": [
    "df_imputed.head()"
   ]
  },
  {
   "cell_type": "markdown",
   "metadata": {},
   "source": [
    "Nos deshacemos de aquellas categorías que no vamos a usar, ya que son muy extensas y no nos aportará ninguna información."
   ]
  },
  {
   "cell_type": "code",
   "execution_count": 258,
   "metadata": {},
   "outputs": [],
   "source": [
    "df_imputed.drop(columns=['name', 'model', 'postalCode'], inplace=True)"
   ]
  },
  {
   "cell_type": "markdown",
   "metadata": {},
   "source": [
    "## Encoding"
   ]
  },
  {
   "cell_type": "markdown",
   "metadata": {},
   "source": [
    "Encodeamos como vemos en el notebook de encoding. Primero las nominales con one hot encoder, y luego las ordinales con target encoder."
   ]
  },
  {
   "cell_type": "code",
   "execution_count": 259,
   "metadata": {},
   "outputs": [],
   "source": [
    "onehot_abtest = encode_onehot(df_imputed, columns=[\"abtest\"])\n",
    "df_noout_onehot = pd.concat([df_imputed.reset_index(drop=True), onehot_abtest.reset_index(drop=True)], axis=1)"
   ]
  },
  {
   "cell_type": "code",
   "execution_count": 260,
   "metadata": {},
   "outputs": [],
   "source": [
    "df_noout_onehot.drop(columns=[\"seller\", \"offerType\", \"abtest\"], inplace=True)\n",
    "df_noout_onehot.reset_index(drop=True, inplace=True)"
   ]
  },
  {
   "cell_type": "code",
   "execution_count": 261,
   "metadata": {},
   "outputs": [
    {
     "data": {
      "text/plain": [
       "Index(['dateCrawled', 'yearOfRegistration', 'gearbox', 'monthOfRegistration',\n",
       "       'fuelType', 'brand', 'notRepairedDamage', 'dateCreated', 'lastSeen'],\n",
       "      dtype='object')"
      ]
     },
     "execution_count": 261,
     "metadata": {},
     "output_type": "execute_result"
    }
   ],
   "source": [
    "df_noout_onehot.select_dtypes('O').columns"
   ]
  },
  {
   "cell_type": "code",
   "execution_count": 269,
   "metadata": {},
   "outputs": [],
   "source": [
    "df_encoded = encode_target(df_noout_onehot, columns = df_noout_onehot.select_dtypes('O').columns, response_var=\"price\")"
   ]
  },
  {
   "cell_type": "markdown",
   "metadata": {},
   "source": [
    "## Outliers"
   ]
  },
  {
   "cell_type": "markdown",
   "metadata": {},
   "source": [
    "Gestionamos los outliers como en el notebook correspondiente."
   ]
  },
  {
   "cell_type": "code",
   "execution_count": 270,
   "metadata": {},
   "outputs": [],
   "source": [
    "df_encoded.drop(columns=\"nrOfPictures\", inplace=True)"
   ]
  },
  {
   "cell_type": "code",
   "execution_count": 271,
   "metadata": {},
   "outputs": [],
   "source": [
    "numeric_cols = df_encoded.select_dtypes(\"number\").columns.drop([\"price\", \"abtest_control\", \"abtest_test\"])"
   ]
  },
  {
   "cell_type": "code",
   "execution_count": 272,
   "metadata": {},
   "outputs": [
    {
     "name": "stderr",
     "output_type": "stream",
     "text": [
      "100%|██████████| 25/25 [01:55<00:00,  4.61s/it]\n"
     ]
    }
   ],
   "source": [
    "ifo_outliers = find_outliers(data = df_encoded, columns = numeric_cols, threshold=60)"
   ]
  },
  {
   "cell_type": "code",
   "execution_count": 273,
   "metadata": {},
   "outputs": [],
   "source": [
    "df_drop_ifo = df_encoded.drop(index = ifo_outliers.index)\n",
    "df_drop_ifo.reset_index(drop=True, inplace=True)"
   ]
  },
  {
   "cell_type": "code",
   "execution_count": 274,
   "metadata": {},
   "outputs": [
    {
     "name": "stderr",
     "output_type": "stream",
     "text": [
      "  0%|          | 0/25 [00:00<?, ?it/s]"
     ]
    },
    {
     "name": "stderr",
     "output_type": "stream",
     "text": [
      "100%|██████████| 25/25 [01:46<00:00,  4.26s/it]\n"
     ]
    }
   ],
   "source": [
    "lof_outliers = find_outliers(data = df_drop_ifo, columns = numeric_cols)"
   ]
  },
  {
   "cell_type": "code",
   "execution_count": 275,
   "metadata": {},
   "outputs": [
    {
     "data": {
      "text/plain": [
       "Index(['dateCrawled', 'yearOfRegistration', 'gearbox', 'powerCV', 'kilometer',\n",
       "       'monthOfRegistration', 'fuelType', 'brand', 'notRepairedDamage',\n",
       "       'dateCreated', 'lastSeen'],\n",
       "      dtype='object')"
      ]
     },
     "execution_count": 275,
     "metadata": {},
     "output_type": "execute_result"
    }
   ],
   "source": [
    "numeric_cols"
   ]
  },
  {
   "cell_type": "code",
   "execution_count": 276,
   "metadata": {},
   "outputs": [],
   "source": [
    "real_numeric_cols = [\"powerCV\", \"kilometer\"]"
   ]
  },
  {
   "cell_type": "code",
   "execution_count": 277,
   "metadata": {},
   "outputs": [
    {
     "name": "stdout",
     "output_type": "stream",
     "text": [
      "[IterativeImputer] Completing matrix with shape (69352, 14)\n",
      "[IterativeImputer] Ending imputation round 1/10, elapsed time 31.96\n",
      "[IterativeImputer] Change: 99347.20643631561, scaled tolerance: 150.0 \n",
      "[IterativeImputer] Ending imputation round 2/10, elapsed time 67.03\n",
      "[IterativeImputer] Change: 60084.7119, scaled tolerance: 150.0 \n",
      "[IterativeImputer] Ending imputation round 3/10, elapsed time 104.73\n",
      "[IterativeImputer] Change: 54404.3559, scaled tolerance: 150.0 \n",
      "[IterativeImputer] Ending imputation round 4/10, elapsed time 142.95\n",
      "[IterativeImputer] Change: 45453.7746, scaled tolerance: 150.0 \n",
      "[IterativeImputer] Ending imputation round 5/10, elapsed time 183.73\n",
      "[IterativeImputer] Change: 58266.64, scaled tolerance: 150.0 \n",
      "[IterativeImputer] Ending imputation round 6/10, elapsed time 223.84\n",
      "[IterativeImputer] Change: 46405.941966666665, scaled tolerance: 150.0 \n",
      "[IterativeImputer] Ending imputation round 7/10, elapsed time 265.46\n",
      "[IterativeImputer] Change: 42054.4633, scaled tolerance: 150.0 \n",
      "[IterativeImputer] Ending imputation round 8/10, elapsed time 307.60\n",
      "[IterativeImputer] Change: 54255.3901, scaled tolerance: 150.0 \n",
      "[IterativeImputer] Ending imputation round 9/10, elapsed time 351.62\n",
      "[IterativeImputer] Change: 40856.441075, scaled tolerance: 150.0 \n",
      "[IterativeImputer] Ending imputation round 10/10, elapsed time 394.30\n",
      "[IterativeImputer] Change: 49726.4858, scaled tolerance: 150.0 \n"
     ]
    }
   ],
   "source": [
    "df_drop_ifo.loc[lof_outliers.index, real_numeric_cols] = np.nan\n",
    "\n",
    "df_lof_imputed = impute_nulls(data = df_drop_ifo)"
   ]
  },
  {
   "cell_type": "code",
   "execution_count": 278,
   "metadata": {},
   "outputs": [],
   "source": [
    "df_drop_ifo.loc[lof_outliers.index, numeric_cols] = df_lof_imputed"
   ]
  },
  {
   "cell_type": "code",
   "execution_count": 279,
   "metadata": {},
   "outputs": [],
   "source": [
    "df_noout = df_drop_ifo"
   ]
  },
  {
   "cell_type": "markdown",
   "metadata": {},
   "source": [
    "## Feature Scaling"
   ]
  },
  {
   "cell_type": "markdown",
   "metadata": {},
   "source": [
    "Ahora para la estandarización lo haremos con todas las columnas, ya que han sido procesadas con encoding y ya son numéricas."
   ]
  },
  {
   "cell_type": "code",
   "execution_count": 289,
   "metadata": {},
   "outputs": [],
   "source": [
    "df_scaled = scale_data(data =df_noout, columns = numeric_cols, method='standard')"
   ]
  },
  {
   "cell_type": "code",
   "execution_count": 290,
   "metadata": {},
   "outputs": [],
   "source": [
    "df_imputed_scaled = df_noout.copy()"
   ]
  },
  {
   "cell_type": "code",
   "execution_count": 291,
   "metadata": {},
   "outputs": [],
   "source": [
    "df_imputed_scaled[df_scaled.columns] = df_scaled"
   ]
  },
  {
   "cell_type": "code",
   "execution_count": 292,
   "metadata": {},
   "outputs": [
    {
     "data": {
      "text/html": [
       "<div>\n",
       "<style scoped>\n",
       "    .dataframe tbody tr th:only-of-type {\n",
       "        vertical-align: middle;\n",
       "    }\n",
       "\n",
       "    .dataframe tbody tr th {\n",
       "        vertical-align: top;\n",
       "    }\n",
       "\n",
       "    .dataframe thead th {\n",
       "        text-align: right;\n",
       "    }\n",
       "</style>\n",
       "<table border=\"1\" class=\"dataframe\">\n",
       "  <thead>\n",
       "    <tr style=\"text-align: right;\">\n",
       "      <th></th>\n",
       "      <th>dateCrawled</th>\n",
       "      <th>price</th>\n",
       "      <th>yearOfRegistration</th>\n",
       "      <th>gearbox</th>\n",
       "      <th>powerCV</th>\n",
       "      <th>kilometer</th>\n",
       "      <th>monthOfRegistration</th>\n",
       "      <th>fuelType</th>\n",
       "      <th>brand</th>\n",
       "      <th>notRepairedDamage</th>\n",
       "      <th>dateCreated</th>\n",
       "      <th>lastSeen</th>\n",
       "      <th>abtest_control</th>\n",
       "      <th>abtest_test</th>\n",
       "    </tr>\n",
       "  </thead>\n",
       "  <tbody>\n",
       "    <tr>\n",
       "      <th>0</th>\n",
       "      <td>-0.409079</td>\n",
       "      <td>1500.0</td>\n",
       "      <td>-0.291942</td>\n",
       "      <td>-0.180219</td>\n",
       "      <td>0.048223</td>\n",
       "      <td>0.746064</td>\n",
       "      <td>0.410365</td>\n",
       "      <td>-0.139538</td>\n",
       "      <td>-0.075494</td>\n",
       "      <td>0.572844</td>\n",
       "      <td>-0.281078</td>\n",
       "      <td>-1.097411</td>\n",
       "      <td>0.0</td>\n",
       "      <td>1.0</td>\n",
       "    </tr>\n",
       "    <tr>\n",
       "      <th>1</th>\n",
       "      <td>-0.409079</td>\n",
       "      <td>3600.0</td>\n",
       "      <td>-0.291942</td>\n",
       "      <td>-0.180219</td>\n",
       "      <td>-0.232685</td>\n",
       "      <td>-0.785705</td>\n",
       "      <td>0.250514</td>\n",
       "      <td>2.999402</td>\n",
       "      <td>1.452261</td>\n",
       "      <td>0.572844</td>\n",
       "      <td>-0.281078</td>\n",
       "      <td>0.911236</td>\n",
       "      <td>0.0</td>\n",
       "      <td>1.0</td>\n",
       "    </tr>\n",
       "  </tbody>\n",
       "</table>\n",
       "</div>"
      ],
      "text/plain": [
       "   dateCrawled   price  yearOfRegistration   gearbox   powerCV  kilometer  \\\n",
       "0    -0.409079  1500.0           -0.291942 -0.180219  0.048223   0.746064   \n",
       "1    -0.409079  3600.0           -0.291942 -0.180219 -0.232685  -0.785705   \n",
       "\n",
       "   monthOfRegistration  fuelType     brand  notRepairedDamage  dateCreated  \\\n",
       "0             0.410365 -0.139538 -0.075494           0.572844    -0.281078   \n",
       "1             0.250514  2.999402  1.452261           0.572844    -0.281078   \n",
       "\n",
       "   lastSeen  abtest_control  abtest_test  \n",
       "0 -1.097411             0.0          1.0  \n",
       "1  0.911236             0.0          1.0  "
      ]
     },
     "execution_count": 292,
     "metadata": {},
     "output_type": "execute_result"
    }
   ],
   "source": [
    "df_imputed_scaled.head(2)"
   ]
  },
  {
   "cell_type": "markdown",
   "metadata": {},
   "source": [
    "## Training"
   ]
  },
  {
   "cell_type": "markdown",
   "metadata": {},
   "source": [
    "Ya pasamos con el entrenamiento del modelo. Creamos una función que nos dará las métricas y unos subplots de la visualización de las predicciones."
   ]
  },
  {
   "cell_type": "code",
   "execution_count": 284,
   "metadata": {},
   "outputs": [],
   "source": [
    "def metrics_n_plot(model, X_train, X_test, y_train, y_test):\n",
    "    y_test_pred_gb = model.predict(X_test)\n",
    "    y_train_pred_gb = model.predict(X_train)\n",
    "    plt.subplot(2,2,3)\n",
    "    plt.plot([0, max(y_test)], [0, max(y_test)], ls = \"--\", color = \"red\")\n",
    "    sns.scatterplot(x = y_test, y = y_test_pred_gb)\n",
    "    plt.title(\"Test\")\n",
    "    plt.subplot(2,2,4)\n",
    "    sns.scatterplot(x = y_test, y = y_test-y_test_pred_gb)\n",
    "    plt.axhline(y = 0, ls = \"--\", color = \"red\")\n",
    "    plt.title(\"Test\")\n",
    "    plt.subplot(2,2,1)\n",
    "    plt.plot([0, max(y_train)], [0, max(y_train)], ls = \"--\", color = \"red\")\n",
    "    sns.scatterplot(x = y_train, y = y_train_pred_gb)\n",
    "    plt.title(\"Train\")\n",
    "    plt.subplot(2,2,2)\n",
    "    sns.scatterplot(x = y_train, y = y_train-y_train_pred_gb)\n",
    "    plt.axhline(y = 0, ls = \"--\", color = \"red\")\n",
    "    plt.title(\"Train\")\n",
    "    plt.tight_layout()\n",
    "    plt.show()\n",
    "    return get_metrics(y_train, y_train_pred_gb, y_test, y_test_pred_gb)"
   ]
  },
  {
   "cell_type": "code",
   "execution_count": 285,
   "metadata": {},
   "outputs": [
    {
     "data": {
      "text/plain": [
       "Index(['dateCrawled', 'price', 'yearOfRegistration', 'gearbox', 'powerCV',\n",
       "       'kilometer', 'monthOfRegistration', 'fuelType', 'brand',\n",
       "       'notRepairedDamage', 'dateCreated', 'lastSeen', 'abtest_control',\n",
       "       'abtest_test'],\n",
       "      dtype='object')"
      ]
     },
     "execution_count": 285,
     "metadata": {},
     "output_type": "execute_result"
    }
   ],
   "source": [
    "df_imputed_scaled.columns"
   ]
  },
  {
   "cell_type": "markdown",
   "metadata": {},
   "source": [
    "Separamos en X e y, según las variables predictoras y respuesta."
   ]
  },
  {
   "cell_type": "code",
   "execution_count": 293,
   "metadata": {},
   "outputs": [],
   "source": [
    "X = df_imputed_scaled.drop(columns= [\"price\"])\n",
    "y = df_imputed_scaled[\"price\"]\n",
    "X_train, X_test, y_train, y_test = train_test_split(X, y, test_size=0.2, random_state=42)"
   ]
  },
  {
   "cell_type": "markdown",
   "metadata": {},
   "source": [
    "Después de varias iteraciones, damos con unas que nos permiten tener unos mejores resultados."
   ]
  },
  {
   "cell_type": "code",
   "execution_count": 303,
   "metadata": {},
   "outputs": [
    {
     "name": "stdout",
     "output_type": "stream",
     "text": [
      "Fitting 5 folds for each of 108 candidates, totalling 540 fits\n",
      "{'max_depth': 12, 'max_leaf_nodes': 70, 'min_samples_leaf': 8, 'min_samples_split': 6, 'n_estimators': 130}\n"
     ]
    },
    {
     "data": {
      "image/png": "[encoded data removed]",
      "text/plain": [
       "<Figure size 640x480 with 4 Axes>"
      ]
     },
     "metadata": {},
     "output_type": "display_data"
    },
    {
     "data": {
      "text/html": [
       "<div>\n",
       "<style scoped>\n",
       "    .dataframe tbody tr th:only-of-type {\n",
       "        vertical-align: middle;\n",
       "    }\n",
       "\n",
       "    .dataframe tbody tr th {\n",
       "        vertical-align: top;\n",
       "    }\n",
       "\n",
       "    .dataframe thead th {\n",
       "        text-align: right;\n",
       "    }\n",
       "</style>\n",
       "<table border=\"1\" class=\"dataframe\">\n",
       "  <thead>\n",
       "    <tr style=\"text-align: right;\">\n",
       "      <th></th>\n",
       "      <th>r2_score</th>\n",
       "      <th>MAE</th>\n",
       "      <th>MSE</th>\n",
       "      <th>RMSE</th>\n",
       "    </tr>\n",
       "  </thead>\n",
       "  <tbody>\n",
       "    <tr>\n",
       "      <th>train</th>\n",
       "      <td>0.837293</td>\n",
       "      <td>696.810392</td>\n",
       "      <td>1.214760e+06</td>\n",
       "      <td>1102.161501</td>\n",
       "    </tr>\n",
       "    <tr>\n",
       "      <th>test</th>\n",
       "      <td>0.828779</td>\n",
       "      <td>754.435589</td>\n",
       "      <td>1.212990e+06</td>\n",
       "      <td>1101.358176</td>\n",
       "    </tr>\n",
       "  </tbody>\n",
       "</table>\n",
       "</div>"
      ],
      "text/plain": [
       "       r2_score         MAE           MSE         RMSE\n",
       "train  0.837293  696.810392  1.214760e+06  1102.161501\n",
       "test   0.828779  754.435589  1.212990e+06  1101.358176"
      ]
     },
     "execution_count": 303,
     "metadata": {},
     "output_type": "execute_result"
    }
   ],
   "source": [
    "params_gb = {'n_estimators': [120,130],\n",
    "            'max_depth': [8, 10, 12],\n",
    "            'min_samples_split': [6,7,9],\n",
    "            'min_samples_leaf': [7, 8],\n",
    "            'max_leaf_nodes': [70,80,90]}\n",
    "\n",
    "grid_search_gb = create_model(params=params_gb, X_train=X_train, y_train=y_train, method = GradientBoostingRegressor(random_state=42, learning_rate=0.1), cv = 5)\n",
    "gb_estimator = grid_search_gb.best_estimator_\n",
    "print(grid_search_gb.best_params_)\n",
    "metrics_n_plot(gb_estimator, X_train, X_test, y_train, y_test)"
   ]
  },
  {
   "cell_type": "markdown",
   "metadata": {},
   "source": [
    "Vemos un $r^2$ de 0.82 y unos RMSE de 1100, sin overfitting ni underfitting. El RMSE sigue siendo bastante relevante, sin embargo queda muy reducido en este caso comparado con muchos otros. Además vemos que los atípicos en los coches pequeños (los que tienen precios muy altos, siguen siendo predichos con un error mucho más grande que el resto. Para próximos pasos sería necesario revisar a qué datos corresponden estos outliers."
   ]
  },
  {
   "cell_type": "code",
   "execution_count": 307,
   "metadata": {},
   "outputs": [
    {
     "data": {
      "text/html": [
       "<div>\n",
       "<style scoped>\n",
       "    .dataframe tbody tr th:only-of-type {\n",
       "        vertical-align: middle;\n",
       "    }\n",
       "\n",
       "    .dataframe tbody tr th {\n",
       "        vertical-align: top;\n",
       "    }\n",
       "\n",
       "    .dataframe thead th {\n",
       "        text-align: right;\n",
       "    }\n",
       "</style>\n",
       "<table border=\"1\" class=\"dataframe\">\n",
       "  <thead>\n",
       "    <tr style=\"text-align: right;\">\n",
       "      <th></th>\n",
       "      <th>Importance</th>\n",
       "    </tr>\n",
       "  </thead>\n",
       "  <tbody>\n",
       "    <tr>\n",
       "      <th>yearOfRegistration</th>\n",
       "      <td>0.442216</td>\n",
       "    </tr>\n",
       "    <tr>\n",
       "      <th>powerCV</th>\n",
       "      <td>0.240105</td>\n",
       "    </tr>\n",
       "    <tr>\n",
       "      <th>kilometer</th>\n",
       "      <td>0.182300</td>\n",
       "    </tr>\n",
       "    <tr>\n",
       "      <th>brand</th>\n",
       "      <td>0.076825</td>\n",
       "    </tr>\n",
       "    <tr>\n",
       "      <th>notRepairedDamage</th>\n",
       "      <td>0.018820</td>\n",
       "    </tr>\n",
       "    <tr>\n",
       "      <th>fuelType</th>\n",
       "      <td>0.017213</td>\n",
       "    </tr>\n",
       "    <tr>\n",
       "      <th>monthOfRegistration</th>\n",
       "      <td>0.013033</td>\n",
       "    </tr>\n",
       "    <tr>\n",
       "      <th>lastSeen</th>\n",
       "      <td>0.006019</td>\n",
       "    </tr>\n",
       "    <tr>\n",
       "      <th>gearbox</th>\n",
       "      <td>0.001710</td>\n",
       "    </tr>\n",
       "    <tr>\n",
       "      <th>abtest_test</th>\n",
       "      <td>0.000808</td>\n",
       "    </tr>\n",
       "    <tr>\n",
       "      <th>abtest_control</th>\n",
       "      <td>0.000531</td>\n",
       "    </tr>\n",
       "    <tr>\n",
       "      <th>dateCrawled</th>\n",
       "      <td>0.000300</td>\n",
       "    </tr>\n",
       "    <tr>\n",
       "      <th>dateCreated</th>\n",
       "      <td>0.000120</td>\n",
       "    </tr>\n",
       "  </tbody>\n",
       "</table>\n",
       "</div>"
      ],
      "text/plain": [
       "                     Importance\n",
       "yearOfRegistration     0.442216\n",
       "powerCV                0.240105\n",
       "kilometer              0.182300\n",
       "brand                  0.076825\n",
       "notRepairedDamage      0.018820\n",
       "fuelType               0.017213\n",
       "monthOfRegistration    0.013033\n",
       "lastSeen               0.006019\n",
       "gearbox                0.001710\n",
       "abtest_test            0.000808\n",
       "abtest_control         0.000531\n",
       "dateCrawled            0.000300\n",
       "dateCreated            0.000120"
      ]
     },
     "execution_count": 307,
     "metadata": {},
     "output_type": "execute_result"
    }
   ],
   "source": [
    "pd.DataFrame(gb_estimator.feature_importances_, index = X_train.columns, columns=[\"Importance\"]).sort_values(by = \"Importance\", ascending=False)"
   ]
  },
  {
   "cell_type": "markdown",
   "metadata": {},
   "source": [
    "La tabla de importancias la extraemos con intención informativa, de forma que para próximas iteraciones podamos decidir qué variables predictoras podríamos revisar."
   ]
  },
  {
   "cell_type": "markdown",
   "metadata": {},
   "source": [
    "Por último, sería una buena opción guardar los objetos de sklearn (como los regresores o los encoders) en objetos pkl, además de crear una webapp simple con streamlit que nos permita realizar todo este proceso sin tener que ejecutar todo el código cada vez que tengamos un dato nuevo."
   ]
  }
 ],
 "metadata": {
  "kernelspec": {
   "display_name": "Python 3",
   "language": "python",
   "name": "python3"
  },
  "language_info": {
   "codemirror_mode": {
    "name": "ipython",
    "version": 3
   },
   "file_extension": ".py",
   "mimetype": "text/x-python",
   "name": "python",
   "nbconvert_exporter": "python",
   "pygments_lexer": "ipython3",
   "version": "3.11.9"
  }
 },
 "nbformat": 4,
 "nbformat_minor": 2
}
