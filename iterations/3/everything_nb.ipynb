{
 "cells": [
  {
   "cell_type": "markdown",
   "metadata": {},
   "source": [
    "# Primero Encode, luego Estandarizar y gestionar Outliers."
   ]
  },
  {
   "cell_type": "code",
   "execution_count": 73,
   "metadata": {},
   "outputs": [],
   "source": [
    "import pandas as pd\n",
    "import numpy as np\n",
    "\n",
    "import pandas as pd\n",
    "from sklearn.experimental import enable_iterative_imputer\n",
    "from sklearn.impute import SimpleImputer, IterativeImputer, KNNImputer\n",
    "from sklearn.ensemble import RandomForestRegressor\n",
    "\n",
    "from sklearn.preprocessing import MinMaxScaler, StandardScaler, RobustScaler\n",
    "\n",
    "import seaborn as sns\n",
    "import matplotlib.pyplot as plt\n",
    "\n",
    "from sklearn.ensemble import IsolationForest\n",
    "from sklearn.neighbors import LocalOutlierFactor\n",
    "\n",
    "from itertools import product\n",
    "\n",
    "from tqdm import tqdm\n",
    "\n",
    "from sklearn.experimental import enable_iterative_imputer\n",
    "from sklearn.impute import IterativeImputer\n",
    "from sklearn.ensemble import RandomForestRegressor\n",
    "\n",
    "from sklearn.preprocessing import OneHotEncoder\n",
    "\n",
    "from category_encoders import TargetEncoder\n",
    "\n",
    "from sklearn.linear_model import LinearRegression\n",
    "from sklearn.tree import DecisionTreeRegressor, plot_tree\n",
    "from sklearn.ensemble import RandomForestRegressor\n",
    "from sklearn.model_selection import train_test_split,GridSearchCV\n",
    "from sklearn.metrics import r2_score, mean_squared_error, mean_absolute_error\n",
    "\n",
    "from sklearn.ensemble import RandomForestRegressor\n",
    "from sklearn.ensemble import GradientBoostingRegressor\n",
    "\n",
    "import warnings\n",
    "warnings.filterwarnings('ignore')\n",
    "\n",
    "import sys\n",
    "sys.path.append(\"../..\")\n",
    "from src.support_ml import * "
   ]
  },
  {
   "cell_type": "code",
   "execution_count": 74,
   "metadata": {},
   "outputs": [],
   "source": [
    "params_tree = {\n",
    "    'max_depth': [6, 8, 10, 20],\n",
    "    'min_samples_split': [10, 50],\n",
    "    'min_samples_leaf': [10, 50],\n",
    "    'max_leaf_nodes': [10, 20, 40, 80, 160]\n",
    "}"
   ]
  },
  {
   "cell_type": "code",
   "execution_count": 75,
   "metadata": {},
   "outputs": [],
   "source": [
    "df = pd.read_csv(\"../../datos/autorenew.csv\")"
   ]
  },
  {
   "cell_type": "markdown",
   "metadata": {},
   "source": [
    "## EDA and nulls"
   ]
  },
  {
   "cell_type": "code",
   "execution_count": 76,
   "metadata": {},
   "outputs": [],
   "source": [
    "month_map = {\n",
    "    0: \"unknown\",\n",
    "    1: \"january\",\n",
    "    2: \"february\",\n",
    "    3: \"march\",\n",
    "    4: \"april\",\n",
    "    5: \"may\",\n",
    "    6: \"june\",\n",
    "    7: \"july\",\n",
    "    8: \"august\",\n",
    "    9: \"september\",\n",
    "    10: \"october\",\n",
    "    11: \"november\",\n",
    "    12: \"december\"\n",
    "}"
   ]
  },
  {
   "cell_type": "code",
   "execution_count": 77,
   "metadata": {},
   "outputs": [],
   "source": [
    "df[\"dateCreated\"] = pd.to_datetime(df[\"dateCreated\"]).apply(lambda x: x.strftime(\"%Y-%m\"))\n",
    "df[\"dateCrawled\"] = pd.to_datetime(df[\"dateCrawled\"]).apply(lambda x: x.strftime(\"%Y-%m\"))\n",
    "df[\"lastSeen\"] = pd.to_datetime(df[\"lastSeen\"]).apply(lambda x: x.strftime(\"%Y-%m\"))"
   ]
  },
  {
   "cell_type": "code",
   "execution_count": 78,
   "metadata": {},
   "outputs": [],
   "source": [
    "df.drop(index = df[df[\"price\"]<=250].index, inplace=True)\n",
    "\n",
    "upper_error_index = df[(df[\"price\"] > 1.7e+05) & (df[\"powerCV\"] < 400)].index\n",
    "df.drop(index=upper_error_index, inplace=True)\n",
    "\n",
    "df.drop(index = df[df[\"price\"] > 1e+9].index, inplace=True)\n",
    "\n",
    "cv_cond = (df[\"powerCV\"] < 50) | (df[\"powerCV\"] > 1000)\n",
    "df.loc[df[cv_cond].index, \"powerCV\"] = np.nan\n",
    "\n",
    "cond_year = (df[\"yearOfRegistration\"] < 1900) | (df[\"yearOfRegistration\"] >= 2017)\n",
    "df.loc[df[cond_year].index, \"yearOfRegistration\"] = 'unknown'\n",
    "\n",
    "coche_year_dicc = {\n",
    "    \"Coche Vintage\": list(range(1900, 1946)),\n",
    "    \"Coche Clásico\": list(range(1946, 1971)),\n",
    "    \"Coche Retro-Moderno\": list(range(1971, 1991)),\n",
    "    \"Coche Moderno\": list(range(1991, 2011)),\n",
    "    \"Coche Contemporáneo\": list(range(2011, 2025)),\n",
    "    \"unknown\" : [\"unknown\"]\n",
    "}\n",
    "\n",
    "year_to_category = {}\n",
    "\n",
    "for category, years in coche_year_dicc.items():\n",
    "    for year in years:\n",
    "        year_to_category[year] = category\n",
    "\n",
    "df[\"yearOfRegistration\"] = df[\"yearOfRegistration\"].map(year_to_category)\n",
    "\n",
    "\n",
    "df[\"monthOfRegistration\"] = df[\"monthOfRegistration\"].map(month_map)\n",
    "\n",
    "for col in df.select_dtypes(\"O\").columns:\n",
    "    df.loc[df[df[col].isna()].index, col] = 'unknown'\n",
    "\n",
    "df.reset_index(drop=True, inplace=True)"
   ]
  },
  {
   "cell_type": "code",
   "execution_count": 79,
   "metadata": {},
   "outputs": [
    {
     "name": "stdout",
     "output_type": "stream",
     "text": [
      "[IterativeImputer] Completing matrix with shape (349204, 5)\n",
      "[IterativeImputer] Ending imputation round 1/10, elapsed time 54.29\n",
      "[IterativeImputer] Change: 419.2934571427641, scaled tolerance: 3895.0 \n",
      "[IterativeImputer] Early stopping criterion reached.\n"
     ]
    }
   ],
   "source": [
    "df_treated = impute_nulls(df)"
   ]
  },
  {
   "cell_type": "code",
   "execution_count": 80,
   "metadata": {},
   "outputs": [],
   "source": [
    "df_imputed = df.copy()\n",
    "df_imputed[df_treated.columns] = df_treated"
   ]
  },
  {
   "cell_type": "code",
   "execution_count": 81,
   "metadata": {},
   "outputs": [
    {
     "data": {
      "text/html": [
       "<div>\n",
       "<style scoped>\n",
       "    .dataframe tbody tr th:only-of-type {\n",
       "        vertical-align: middle;\n",
       "    }\n",
       "\n",
       "    .dataframe tbody tr th {\n",
       "        vertical-align: top;\n",
       "    }\n",
       "\n",
       "    .dataframe thead th {\n",
       "        text-align: right;\n",
       "    }\n",
       "</style>\n",
       "<table border=\"1\" class=\"dataframe\">\n",
       "  <thead>\n",
       "    <tr style=\"text-align: right;\">\n",
       "      <th></th>\n",
       "      <th>dateCrawled</th>\n",
       "      <th>name</th>\n",
       "      <th>seller</th>\n",
       "      <th>offerType</th>\n",
       "      <th>price</th>\n",
       "      <th>abtest</th>\n",
       "      <th>vehicleType</th>\n",
       "      <th>yearOfRegistration</th>\n",
       "      <th>gearbox</th>\n",
       "      <th>powerCV</th>\n",
       "      <th>model</th>\n",
       "      <th>kilometer</th>\n",
       "      <th>monthOfRegistration</th>\n",
       "      <th>fuelType</th>\n",
       "      <th>brand</th>\n",
       "      <th>notRepairedDamage</th>\n",
       "      <th>dateCreated</th>\n",
       "      <th>nrOfPictures</th>\n",
       "      <th>postalCode</th>\n",
       "      <th>lastSeen</th>\n",
       "    </tr>\n",
       "  </thead>\n",
       "  <tbody>\n",
       "    <tr>\n",
       "      <th>0</th>\n",
       "      <td>2016-03</td>\n",
       "      <td>Golf_3_1.6</td>\n",
       "      <td>private</td>\n",
       "      <td>offer</td>\n",
       "      <td>480.0</td>\n",
       "      <td>test</td>\n",
       "      <td>unknown</td>\n",
       "      <td>Coche Moderno</td>\n",
       "      <td>manually</td>\n",
       "      <td>95.12</td>\n",
       "      <td>golf</td>\n",
       "      <td>150000.0</td>\n",
       "      <td>unknown</td>\n",
       "      <td>petrol</td>\n",
       "      <td>volkswagen</td>\n",
       "      <td>unknown</td>\n",
       "      <td>2016-03</td>\n",
       "      <td>0.0</td>\n",
       "      <td>70435.0</td>\n",
       "      <td>2016-04</td>\n",
       "    </tr>\n",
       "    <tr>\n",
       "      <th>1</th>\n",
       "      <td>2016-03</td>\n",
       "      <td>A5_Sportback_2.7_Tdi</td>\n",
       "      <td>private</td>\n",
       "      <td>offer</td>\n",
       "      <td>18300.0</td>\n",
       "      <td>test</td>\n",
       "      <td>coupe</td>\n",
       "      <td>Coche Contemporáneo</td>\n",
       "      <td>manually</td>\n",
       "      <td>187.00</td>\n",
       "      <td>unknown</td>\n",
       "      <td>125000.0</td>\n",
       "      <td>may</td>\n",
       "      <td>diesel</td>\n",
       "      <td>audi</td>\n",
       "      <td>yes</td>\n",
       "      <td>2016-03</td>\n",
       "      <td>0.0</td>\n",
       "      <td>66954.0</td>\n",
       "      <td>2016-04</td>\n",
       "    </tr>\n",
       "    <tr>\n",
       "      <th>2</th>\n",
       "      <td>2016-03</td>\n",
       "      <td>Jeep_Grand_Cherokee_\"Overland\"</td>\n",
       "      <td>private</td>\n",
       "      <td>offer</td>\n",
       "      <td>9800.0</td>\n",
       "      <td>test</td>\n",
       "      <td>suv</td>\n",
       "      <td>Coche Moderno</td>\n",
       "      <td>automatic</td>\n",
       "      <td>161.00</td>\n",
       "      <td>grand</td>\n",
       "      <td>125000.0</td>\n",
       "      <td>august</td>\n",
       "      <td>diesel</td>\n",
       "      <td>jeep</td>\n",
       "      <td>unknown</td>\n",
       "      <td>2016-03</td>\n",
       "      <td>0.0</td>\n",
       "      <td>90480.0</td>\n",
       "      <td>2016-04</td>\n",
       "    </tr>\n",
       "    <tr>\n",
       "      <th>3</th>\n",
       "      <td>2016-03</td>\n",
       "      <td>GOLF_4_1_4__3TÜRER</td>\n",
       "      <td>private</td>\n",
       "      <td>offer</td>\n",
       "      <td>1500.0</td>\n",
       "      <td>test</td>\n",
       "      <td>small car</td>\n",
       "      <td>Coche Moderno</td>\n",
       "      <td>manually</td>\n",
       "      <td>74.00</td>\n",
       "      <td>golf</td>\n",
       "      <td>150000.0</td>\n",
       "      <td>june</td>\n",
       "      <td>petrol</td>\n",
       "      <td>volkswagen</td>\n",
       "      <td>no</td>\n",
       "      <td>2016-03</td>\n",
       "      <td>0.0</td>\n",
       "      <td>91074.0</td>\n",
       "      <td>2016-03</td>\n",
       "    </tr>\n",
       "    <tr>\n",
       "      <th>4</th>\n",
       "      <td>2016-03</td>\n",
       "      <td>Skoda_Fabia_1.4_TDI_PD_Classic</td>\n",
       "      <td>private</td>\n",
       "      <td>offer</td>\n",
       "      <td>3600.0</td>\n",
       "      <td>test</td>\n",
       "      <td>small car</td>\n",
       "      <td>Coche Moderno</td>\n",
       "      <td>manually</td>\n",
       "      <td>68.00</td>\n",
       "      <td>fabia</td>\n",
       "      <td>90000.0</td>\n",
       "      <td>july</td>\n",
       "      <td>diesel</td>\n",
       "      <td>skoda</td>\n",
       "      <td>no</td>\n",
       "      <td>2016-03</td>\n",
       "      <td>0.0</td>\n",
       "      <td>60437.0</td>\n",
       "      <td>2016-04</td>\n",
       "    </tr>\n",
       "  </tbody>\n",
       "</table>\n",
       "</div>"
      ],
      "text/plain": [
       "  dateCrawled                            name   seller offerType    price  \\\n",
       "0     2016-03                      Golf_3_1.6  private     offer    480.0   \n",
       "1     2016-03            A5_Sportback_2.7_Tdi  private     offer  18300.0   \n",
       "2     2016-03  Jeep_Grand_Cherokee_\"Overland\"  private     offer   9800.0   \n",
       "3     2016-03              GOLF_4_1_4__3TÜRER  private     offer   1500.0   \n",
       "4     2016-03  Skoda_Fabia_1.4_TDI_PD_Classic  private     offer   3600.0   \n",
       "\n",
       "  abtest vehicleType   yearOfRegistration    gearbox  powerCV    model  \\\n",
       "0   test     unknown        Coche Moderno   manually    95.12     golf   \n",
       "1   test       coupe  Coche Contemporáneo   manually   187.00  unknown   \n",
       "2   test         suv        Coche Moderno  automatic   161.00    grand   \n",
       "3   test   small car        Coche Moderno   manually    74.00     golf   \n",
       "4   test   small car        Coche Moderno   manually    68.00    fabia   \n",
       "\n",
       "   kilometer monthOfRegistration fuelType       brand notRepairedDamage  \\\n",
       "0   150000.0             unknown   petrol  volkswagen           unknown   \n",
       "1   125000.0                 may   diesel        audi               yes   \n",
       "2   125000.0              august   diesel        jeep           unknown   \n",
       "3   150000.0                june   petrol  volkswagen                no   \n",
       "4    90000.0                july   diesel       skoda                no   \n",
       "\n",
       "  dateCreated  nrOfPictures  postalCode lastSeen  \n",
       "0     2016-03           0.0     70435.0  2016-04  \n",
       "1     2016-03           0.0     66954.0  2016-04  \n",
       "2     2016-03           0.0     90480.0  2016-04  \n",
       "3     2016-03           0.0     91074.0  2016-03  \n",
       "4     2016-03           0.0     60437.0  2016-04  "
      ]
     },
     "execution_count": 81,
     "metadata": {},
     "output_type": "execute_result"
    }
   ],
   "source": [
    "df_imputed.head()"
   ]
  },
  {
   "cell_type": "markdown",
   "metadata": {},
   "source": [
    "## Encoding"
   ]
  },
  {
   "cell_type": "code",
   "execution_count": 82,
   "metadata": {},
   "outputs": [],
   "source": [
    "df_imputed.drop(columns=['name', 'model', 'postalCode'], inplace=True)"
   ]
  },
  {
   "cell_type": "code",
   "execution_count": 83,
   "metadata": {},
   "outputs": [],
   "source": [
    "onehot_abtest = encode_onehot(df_imputed, columns=[\"abtest\"])\n",
    "df_noout_onehot = pd.concat([df_imputed.reset_index(drop=True), onehot_abtest.reset_index(drop=True)], axis=1)"
   ]
  },
  {
   "cell_type": "code",
   "execution_count": 84,
   "metadata": {},
   "outputs": [],
   "source": [
    "df_noout_onehot.drop(columns=[\"seller\", \"offerType\", \"abtest\"], inplace=True)\n",
    "df_noout_onehot.reset_index(drop=True, inplace=True)"
   ]
  },
  {
   "cell_type": "code",
   "execution_count": 85,
   "metadata": {},
   "outputs": [],
   "source": [
    "df_encoded = encode_target(df_noout_onehot, columns = df_noout_onehot.select_dtypes('O').columns, response_var=\"price\")"
   ]
  },
  {
   "cell_type": "markdown",
   "metadata": {},
   "source": [
    "## Feature Scaling"
   ]
  },
  {
   "cell_type": "code",
   "execution_count": null,
   "metadata": {},
   "outputs": [],
   "source": [
    "df_encoded.drop(columns=\"nrOfPictures\", inplace=True)"
   ]
  },
  {
   "cell_type": "code",
   "execution_count": 92,
   "metadata": {},
   "outputs": [],
   "source": [
    "numeric_cols = df_encoded.select_dtypes(\"number\").columns.drop(\"price\")"
   ]
  },
  {
   "cell_type": "code",
   "execution_count": null,
   "metadata": {},
   "outputs": [],
   "source": [
    "df_scaled = scale_data(data =df_encoded, columns = numeric_cols)"
   ]
  },
  {
   "cell_type": "code",
   "execution_count": 99,
   "metadata": {},
   "outputs": [],
   "source": [
    "df_imputed_scaled = df_encoded.copy()"
   ]
  },
  {
   "cell_type": "code",
   "execution_count": 100,
   "metadata": {},
   "outputs": [],
   "source": [
    "df_imputed_scaled[df_scaled.columns] = df_scaled"
   ]
  },
  {
   "cell_type": "code",
   "execution_count": 101,
   "metadata": {},
   "outputs": [
    {
     "data": {
      "text/html": [
       "<div>\n",
       "<style scoped>\n",
       "    .dataframe tbody tr th:only-of-type {\n",
       "        vertical-align: middle;\n",
       "    }\n",
       "\n",
       "    .dataframe tbody tr th {\n",
       "        vertical-align: top;\n",
       "    }\n",
       "\n",
       "    .dataframe thead th {\n",
       "        text-align: right;\n",
       "    }\n",
       "</style>\n",
       "<table border=\"1\" class=\"dataframe\">\n",
       "  <thead>\n",
       "    <tr style=\"text-align: right;\">\n",
       "      <th></th>\n",
       "      <th>dateCrawled</th>\n",
       "      <th>price</th>\n",
       "      <th>vehicleType</th>\n",
       "      <th>yearOfRegistration</th>\n",
       "      <th>gearbox</th>\n",
       "      <th>powerCV</th>\n",
       "      <th>kilometer</th>\n",
       "      <th>monthOfRegistration</th>\n",
       "      <th>fuelType</th>\n",
       "      <th>brand</th>\n",
       "      <th>notRepairedDamage</th>\n",
       "      <th>dateCreated</th>\n",
       "      <th>lastSeen</th>\n",
       "      <th>abtest_control</th>\n",
       "      <th>abtest_test</th>\n",
       "    </tr>\n",
       "  </thead>\n",
       "  <tbody>\n",
       "    <tr>\n",
       "      <th>0</th>\n",
       "      <td>0.0</td>\n",
       "      <td>480.0</td>\n",
       "      <td>0.000000</td>\n",
       "      <td>0.000000</td>\n",
       "      <td>0.0</td>\n",
       "      <td>-0.299683</td>\n",
       "      <td>0.0</td>\n",
       "      <td>-9.841127</td>\n",
       "      <td>0.0</td>\n",
       "      <td>0.000000</td>\n",
       "      <td>-1.000000</td>\n",
       "      <td>0.0</td>\n",
       "      <td>0.0</td>\n",
       "      <td>0.0</td>\n",
       "      <td>0.0</td>\n",
       "    </tr>\n",
       "    <tr>\n",
       "      <th>1</th>\n",
       "      <td>0.0</td>\n",
       "      <td>18300.0</td>\n",
       "      <td>14.089543</td>\n",
       "      <td>10698.085712</td>\n",
       "      <td>0.0</td>\n",
       "      <td>1.158730</td>\n",
       "      <td>-0.5</td>\n",
       "      <td>-0.381729</td>\n",
       "      <td>1.0</td>\n",
       "      <td>0.775645</td>\n",
       "      <td>-1.277697</td>\n",
       "      <td>0.0</td>\n",
       "      <td>0.0</td>\n",
       "      <td>0.0</td>\n",
       "      <td>0.0</td>\n",
       "    </tr>\n",
       "  </tbody>\n",
       "</table>\n",
       "</div>"
      ],
      "text/plain": [
       "   dateCrawled    price  vehicleType  yearOfRegistration  gearbox   powerCV  \\\n",
       "0          0.0    480.0     0.000000            0.000000      0.0 -0.299683   \n",
       "1          0.0  18300.0    14.089543        10698.085712      0.0  1.158730   \n",
       "\n",
       "   kilometer  monthOfRegistration  fuelType     brand  notRepairedDamage  \\\n",
       "0        0.0            -9.841127       0.0  0.000000          -1.000000   \n",
       "1       -0.5            -0.381729       1.0  0.775645          -1.277697   \n",
       "\n",
       "   dateCreated  lastSeen  abtest_control  abtest_test  \n",
       "0          0.0       0.0             0.0          0.0  \n",
       "1          0.0       0.0             0.0          0.0  "
      ]
     },
     "execution_count": 101,
     "metadata": {},
     "output_type": "execute_result"
    }
   ],
   "source": [
    "df_imputed_scaled.head(2)"
   ]
  },
  {
   "cell_type": "markdown",
   "metadata": {},
   "source": [
    "## Outliers"
   ]
  },
  {
   "cell_type": "code",
   "execution_count": 107,
   "metadata": {},
   "outputs": [
    {
     "name": "stderr",
     "output_type": "stream",
     "text": [
      "100%|██████████| 25/25 [09:57<00:00, 23.90s/it]\n"
     ]
    }
   ],
   "source": [
    "ifo_outliers = find_outliers(data = df_imputed_scaled, columns = numeric_cols)"
   ]
  },
  {
   "cell_type": "code",
   "execution_count": 112,
   "metadata": {},
   "outputs": [],
   "source": [
    "df_drop_ifo = df_imputed_scaled.drop(index = ifo_outliers.index)\n",
    "df_drop_ifo.reset_index(drop=True, inplace=True)"
   ]
  },
  {
   "cell_type": "code",
   "execution_count": 109,
   "metadata": {},
   "outputs": [
    {
     "name": "stderr",
     "output_type": "stream",
     "text": [
      "100%|██████████| 25/25 [09:33<00:00, 22.95s/it]\n"
     ]
    }
   ],
   "source": [
    "lof_outliers = find_outliers(data = df_drop_ifo, columns = numeric_cols)"
   ]
  },
  {
   "cell_type": "code",
   "execution_count": 114,
   "metadata": {},
   "outputs": [
    {
     "data": {
      "text/plain": [
       "Index(['dateCrawled', 'vehicleType', 'yearOfRegistration', 'gearbox',\n",
       "       'powerCV', 'kilometer', 'monthOfRegistration', 'fuelType', 'brand',\n",
       "       'notRepairedDamage', 'dateCreated', 'lastSeen', 'abtest_control',\n",
       "       'abtest_test'],\n",
       "      dtype='object')"
      ]
     },
     "execution_count": 114,
     "metadata": {},
     "output_type": "execute_result"
    }
   ],
   "source": [
    "numeric_cols"
   ]
  },
  {
   "cell_type": "code",
   "execution_count": 115,
   "metadata": {},
   "outputs": [],
   "source": [
    "real_numeric_cols = [\"powerCV\", \"kilometer\"]"
   ]
  },
  {
   "cell_type": "code",
   "execution_count": 116,
   "metadata": {},
   "outputs": [
    {
     "name": "stdout",
     "output_type": "stream",
     "text": [
      "[IterativeImputer] Completing matrix with shape (339408, 15)\n",
      "[IterativeImputer] Ending imputation round 1/10, elapsed time 333.27\n",
      "[IterativeImputer] Change: 8.177757607756817, scaled tolerance: 500.0 \n",
      "[IterativeImputer] Early stopping criterion reached.\n"
     ]
    }
   ],
   "source": [
    "df_drop_ifo.loc[lof_outliers.index, real_numeric_cols] = np.nan\n",
    "\n",
    "df_lof_imputed = impute_nulls(data = df_drop_ifo)"
   ]
  },
  {
   "cell_type": "code",
   "execution_count": 117,
   "metadata": {},
   "outputs": [],
   "source": [
    "df_drop_ifo.loc[lof_outliers.index, numeric_cols] = df_lof_imputed"
   ]
  },
  {
   "cell_type": "code",
   "execution_count": 118,
   "metadata": {},
   "outputs": [],
   "source": [
    "df_noout = df_drop_ifo"
   ]
  },
  {
   "cell_type": "markdown",
   "metadata": {},
   "source": [
    "## Training"
   ]
  },
  {
   "cell_type": "code",
   "execution_count": 120,
   "metadata": {},
   "outputs": [],
   "source": [
    "X = df_noout.drop(columns= [\"price\"])\n",
    "y = df_noout[\"price\"]\n",
    "X_train, X_test, y_train, y_test = train_test_split(X, y, test_size=0.2, random_state=42)"
   ]
  },
  {
   "cell_type": "code",
   "execution_count": 121,
   "metadata": {},
   "outputs": [],
   "source": [
    "params_tree = {\n",
    "    'max_depth': [6, 8, 10, 20],\n",
    "    'min_samples_split': [10, 50],\n",
    "    'min_samples_leaf': [10, 50],\n",
    "    'max_leaf_nodes': [10, 20, 40, 80, 160]\n",
    "}"
   ]
  },
  {
   "cell_type": "code",
   "execution_count": 122,
   "metadata": {},
   "outputs": [
    {
     "name": "stdout",
     "output_type": "stream",
     "text": [
      "Fitting 5 folds for each of 80 candidates, totalling 400 fits\n"
     ]
    }
   ],
   "source": [
    "grid_search_tree = create_model(X_train=X_train, y_train=y_train, params=params_tree, method = DecisionTreeRegressor())"
   ]
  },
  {
   "cell_type": "code",
   "execution_count": 123,
   "metadata": {},
   "outputs": [],
   "source": [
    "best_tree = grid_search_tree.best_estimator_"
   ]
  },
  {
   "cell_type": "code",
   "execution_count": 124,
   "metadata": {},
   "outputs": [
    {
     "data": {
      "text/html": [
       "<div>\n",
       "<style scoped>\n",
       "    .dataframe tbody tr th:only-of-type {\n",
       "        vertical-align: middle;\n",
       "    }\n",
       "\n",
       "    .dataframe tbody tr th {\n",
       "        vertical-align: top;\n",
       "    }\n",
       "\n",
       "    .dataframe thead th {\n",
       "        text-align: right;\n",
       "    }\n",
       "</style>\n",
       "<table border=\"1\" class=\"dataframe\">\n",
       "  <thead>\n",
       "    <tr style=\"text-align: right;\">\n",
       "      <th></th>\n",
       "      <th>r2_score</th>\n",
       "      <th>MAE</th>\n",
       "      <th>MSE</th>\n",
       "      <th>RMSE</th>\n",
       "    </tr>\n",
       "  </thead>\n",
       "  <tbody>\n",
       "    <tr>\n",
       "      <th>train</th>\n",
       "      <td>0.700391</td>\n",
       "      <td>2117.206282</td>\n",
       "      <td>1.551556e+07</td>\n",
       "      <td>3938.979232</td>\n",
       "    </tr>\n",
       "    <tr>\n",
       "      <th>test</th>\n",
       "      <td>0.693004</td>\n",
       "      <td>2130.679252</td>\n",
       "      <td>1.534460e+07</td>\n",
       "      <td>3917.218443</td>\n",
       "    </tr>\n",
       "  </tbody>\n",
       "</table>\n",
       "</div>"
      ],
      "text/plain": [
       "       r2_score          MAE           MSE         RMSE\n",
       "train  0.700391  2117.206282  1.551556e+07  3938.979232\n",
       "test   0.693004  2130.679252  1.534460e+07  3917.218443"
      ]
     },
     "execution_count": 124,
     "metadata": {},
     "output_type": "execute_result"
    }
   ],
   "source": [
    "y_train_pred = best_tree.predict(X_train)\n",
    "y_test_pred = best_tree.predict(X_test)\n",
    "\n",
    "get_metrics(y_train, y_train_pred, y_test, y_test_pred)"
   ]
  },
  {
   "cell_type": "code",
   "execution_count": 125,
   "metadata": {},
   "outputs": [],
   "source": [
    "params_gb = {'n_estimators': [90,110],\n",
    "            'max_depth': [4, 5, 6],\n",
    "            'min_samples_split': [10, 15, 20],\n",
    "            'min_samples_leaf': [5, 7, 9],\n",
    "            'max_leaf_nodes': [70,80,90]}"
   ]
  },
  {
   "cell_type": "code",
   "execution_count": 126,
   "metadata": {},
   "outputs": [],
   "source": [
    "X_sample = X_train.sample(10000, random_state=42)\n",
    "y_sample = y_train.sample(10000, random_state=42)"
   ]
  },
  {
   "cell_type": "code",
   "execution_count": 127,
   "metadata": {},
   "outputs": [
    {
     "name": "stdout",
     "output_type": "stream",
     "text": [
      "Fitting 3 folds for each of 162 candidates, totalling 486 fits\n"
     ]
    }
   ],
   "source": [
    "grid_search_gb = create_model(params=params_gb, X_train=X_sample, y_train=y_sample, method = GradientBoostingRegressor(random_state=42, learning_rate=0.1), cv = 3)"
   ]
  },
  {
   "cell_type": "code",
   "execution_count": 128,
   "metadata": {},
   "outputs": [
    {
     "data": {
      "text/plain": [
       "{'max_depth': 6,\n",
       " 'max_leaf_nodes': 70,\n",
       " 'min_samples_leaf': 9,\n",
       " 'min_samples_split': 20,\n",
       " 'n_estimators': 90}"
      ]
     },
     "execution_count": 128,
     "metadata": {},
     "output_type": "execute_result"
    }
   ],
   "source": [
    "grid_search_gb.best_params_"
   ]
  },
  {
   "cell_type": "code",
   "execution_count": 129,
   "metadata": {},
   "outputs": [],
   "source": [
    "gb_estimator = grid_search_gb.best_estimator_"
   ]
  },
  {
   "cell_type": "code",
   "execution_count": 130,
   "metadata": {},
   "outputs": [],
   "source": [
    "y_test_pred_gb = gb_estimator.predict(X_test)\n",
    "y_train_pred_gb = gb_estimator.predict(X_train)"
   ]
  },
  {
   "cell_type": "code",
   "execution_count": 131,
   "metadata": {},
   "outputs": [
    {
     "data": {
      "text/html": [
       "<div>\n",
       "<style scoped>\n",
       "    .dataframe tbody tr th:only-of-type {\n",
       "        vertical-align: middle;\n",
       "    }\n",
       "\n",
       "    .dataframe tbody tr th {\n",
       "        vertical-align: top;\n",
       "    }\n",
       "\n",
       "    .dataframe thead th {\n",
       "        text-align: right;\n",
       "    }\n",
       "</style>\n",
       "<table border=\"1\" class=\"dataframe\">\n",
       "  <thead>\n",
       "    <tr style=\"text-align: right;\">\n",
       "      <th></th>\n",
       "      <th>r2_score</th>\n",
       "      <th>MAE</th>\n",
       "      <th>MSE</th>\n",
       "      <th>RMSE</th>\n",
       "    </tr>\n",
       "  </thead>\n",
       "  <tbody>\n",
       "    <tr>\n",
       "      <th>train</th>\n",
       "      <td>0.712446</td>\n",
       "      <td>1948.400531</td>\n",
       "      <td>1.489126e+07</td>\n",
       "      <td>3858.919689</td>\n",
       "    </tr>\n",
       "    <tr>\n",
       "      <th>test</th>\n",
       "      <td>0.719803</td>\n",
       "      <td>1961.921299</td>\n",
       "      <td>1.400511e+07</td>\n",
       "      <td>3742.339597</td>\n",
       "    </tr>\n",
       "  </tbody>\n",
       "</table>\n",
       "</div>"
      ],
      "text/plain": [
       "       r2_score          MAE           MSE         RMSE\n",
       "train  0.712446  1948.400531  1.489126e+07  3858.919689\n",
       "test   0.719803  1961.921299  1.400511e+07  3742.339597"
      ]
     },
     "execution_count": 131,
     "metadata": {},
     "output_type": "execute_result"
    }
   ],
   "source": [
    "get_metrics(y_train, y_train_pred_gb, y_test, y_test_pred_gb)"
   ]
  },
  {
   "cell_type": "code",
   "execution_count": 132,
   "metadata": {},
   "outputs": [
    {
     "data": {
      "text/plain": [
       "<Axes: xlabel='price'>"
      ]
     },
     "execution_count": 132,
     "metadata": {},
     "output_type": "execute_result"
    },
    {
     "data": {
      "image/png": "[encoded data removed]",
      "text/plain": [
       "<Figure size 640x480 with 1 Axes>"
      ]
     },
     "metadata": {},
     "output_type": "display_data"
    }
   ],
   "source": [
    "plt.plot([0, max(y_test)], [0, max(y_test)], ls = \"--\", color = \"red\")\n",
    "sns.scatterplot(x = y_test, y = y_test_pred_gb)"
   ]
  },
  {
   "cell_type": "code",
   "execution_count": 48,
   "metadata": {},
   "outputs": [
    {
     "data": {
      "text/plain": [
       "<matplotlib.lines.Line2D at 0x148a04f9d10>"
      ]
     },
     "execution_count": 48,
     "metadata": {},
     "output_type": "execute_result"
    },
    {
     "data": {
      "image/png": "[encoded data removed]",
      "text/plain": [
       "<Figure size 640x480 with 1 Axes>"
      ]
     },
     "metadata": {},
     "output_type": "display_data"
    }
   ],
   "source": [
    "sns.scatterplot(x = y_test, y = y_test-y_test_pred_gb)\n",
    "plt.axhline(y = 0, ls = \"--\", color = \"red\")"
   ]
  }
 ],
 "metadata": {
  "kernelspec": {
   "display_name": "Python 3",
   "language": "python",
   "name": "python3"
  },
  "language_info": {
   "codemirror_mode": {
    "name": "ipython",
    "version": 3
   },
   "file_extension": ".py",
   "mimetype": "text/x-python",
   "name": "python",
   "nbconvert_exporter": "python",
   "pygments_lexer": "ipython3",
   "version": "3.11.9"
  }
 },
 "nbformat": 4,
 "nbformat_minor": 2
}
