{
 "cells": [
  {
   "cell_type": "markdown",
   "metadata": {},
   "source": [
    "<div style=\"text-align: center;\">\n",
    "  <img src=\"https://github.com/Hack-io-Data/Imagenes/blob/main/01-LogosHackio/logo_naranja@4x.png?raw=true\" alt=\"esquema\" />\n",
    "</div>"
   ]
  },
  {
   "cell_type": "markdown",
   "metadata": {},
   "source": [
    "\n",
    "# Laboratorio EDA y Gestión de Nulos\n",
    "\n",
    "AutoRenew, una empresa líder en la venta de coches de segunda mano, te ha contratado para desarrollar un modelo predictivo que estime el precio de los vehículos usados. Este modelo ayudará a la empresa a mejorar sus estrategias de ventas, marketing y optimización del inventario. Para ello, cuentas con un conjunto de datos que contiene información detallada sobre diversas características de los coches usados. Sin embargo, como es común en conjuntos de datos reales, encontrarás valores nulos y necesitarás realizar un análisis exploratorio para identificar patrones, correlaciones y posibles anomalías.\n",
    "\n",
    " En este laboratorio, tu tarea es realizar un análisis exploratorio de los datos (EDA) y gestionar los valores nulos que encuentres. Este es solo el primer paso de un proyecto que se desarrollará durante toda la semana, en el que usarás este mismo conjunto de datos para practicar diferentes fases del preprocesamiento.\n",
    "\n",
    "**Columnas del conjunto de datos:**\n",
    "\n",
    "- **dateCrawled**: Fecha y hora en que se recolectaron los datos del coche.\n",
    "\n",
    "- **name**: Nombre del anuncio, generalmente incluye la marca y el modelo del coche.\n",
    "\n",
    "- **seller**: Tipo de vendedor (particular o concesionario).\n",
    "\n",
    "- **offerType**: Tipo de oferta (venta o subasta).\n",
    "\n",
    "- **price**: Precio del coche en la moneda local.\n",
    "\n",
    "- **abtest**: Campo utilizado para pruebas A/B, indicando diferentes versiones del sitio web o anuncio.\n",
    "\n",
    "- **vehicleType**: Tipo de vehículo (sedán, SUV, hatchback, etc.).\n",
    "\n",
    "- **yearOfRegistration**: Año de registro del coche.\n",
    "\n",
    "- **gearbox**: Tipo de caja de cambios (manual o automática).\n",
    "\n",
    "- **powerCV**: Potencia del coche en caballos de vapor (CV).\n",
    "\n",
    "- **model**: Modelo específico del coche.\n",
    "\n",
    "- **kilometer**: Kilometraje total del coche.\n",
    "\n",
    "- **monthOfRegistration**: Mes de registro del coche.\n",
    "\n",
    "- **fuelType**: Tipo de combustible (gasolina, diésel, eléctrico, etc.).\n",
    "\n",
    "- **brand**: Marca del coche.\n",
    "\n",
    "- **notRepairedDamage**: Indica si el coche tiene daños no reparados.\n",
    "\n",
    "- **dateCreated**: Fecha de creación del anuncio.\n",
    "\n",
    "- **nrOfPictures**: Número de fotos en el anuncio.\n",
    "\n",
    "- **postalCode**: Código postal de la ubicación del coche.\n",
    "\n",
    "- **lastSeen**: Última fecha y hora en que el anuncio fue visto.\n",
    "\n",
    "**Instrucciones:**\n",
    "\n",
    "1. **Análisis Exploratorio de Datos (EDA):** Explora el conjunto de datos para familiarizarte con las diferentes características de los coches. Utiliza gráficos y estadísticas descriptivas para identificar patrones, tendencias y posibles anomalías.\n",
    "   \n",
    "2. **Gestión de Valores Nulos:** Identifica las columnas que contienen valores nulos y aplica las técnicas adecuadas para manejarlos. Esto podría incluir la imputación de valores, eliminación de filas o columnas, o cualquier otra estrategia que consideres apropiada.\n",
    "\n",
    "**Nota:** Este laboratorio es el primer paso de una serie de actividades que realizarás esta semana utilizando el mismo conjunto de datos. Asegúrate de documentar bien tu trabajo, ya que lo utilizarás como base para los siguientes ejercicios.\n"
   ]
  },
  {
   "cell_type": "markdown",
   "metadata": {},
   "source": []
  }
 ],
 "metadata": {
  "language_info": {
   "name": "python"
  }
 },
 "nbformat": 4,
 "nbformat_minor": 2
}
